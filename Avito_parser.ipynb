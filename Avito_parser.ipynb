{
 "cells": [
  {
   "cell_type": "code",
   "execution_count": 8,
   "metadata": {
    "collapsed": true
   },
   "outputs": [],
   "source": [
    "from bs4 import BeautifulSoup\n",
    "import requests\n",
    "import time\n",
    "import random\n",
    "import os\n",
    "from tqdm import tqdm"
   ]
  },
  {
   "cell_type": "code",
   "execution_count": 115,
   "metadata": {
    "collapsed": true
   },
   "outputs": [],
   "source": [
    "class PageParser():\n",
    "    \n",
    "    def __init__(self):\n",
    "        self.url = 'https://www.avito.ru/rossiya/bilety_i_puteshestviya?p='\n",
    "        self.main = 'https://www.avito.ru'\n",
    "        self.headers = {'User-Agent': 'Mozilla/5.0 (Macintosh; Intel Mac OS X 10_9_1) ' + \n",
    "                                  'AppleWebKit/537.73.11 (KHTML, like Gecko) Version/7.0.1 Safari/537.73.11'}\n",
    "        self.results_counter = 10100\n",
    "        self.links = set(links)\n",
    "    \n",
    "    def collect_links(self):\n",
    "        '''\n",
    "        Collect items links.\n",
    "        return: str: item metadata\n",
    "        '''\n",
    "        i = 1\n",
    "        while len(self.links) < self.results_counter:\n",
    "            try:\n",
    "                req = requests.get(self.url+str(i), headers=self.headers)\n",
    "                html = req.text\n",
    "                soup = BeautifulSoup(html, \"lxml\")\n",
    "                h3 = soup.find_all('h3')\n",
    "                for h in h3:\n",
    "                    self.links.add(h.find('a')['href'])\n",
    "                i += 1\n",
    "                time.sleep(random.randint(1,4))\n",
    "            except:\n",
    "                return\n",
    "        return\n",
    "    \n",
    "    def parse_page(self, soup, url):\n",
    "        '''\n",
    "        Parse a page of an item and collect metadata.\n",
    "        soup: instance of BeautifulSoup class: item page structure\n",
    "        url: str: url of an item\n",
    "        return:\n",
    "        '''\n",
    "        text = url\n",
    "        info = list()\n",
    "        \n",
    "        info.append(soup.find('div', attrs={'class':'sticky-header-prop sticky-header-title'}))\n",
    "        info.append(soup.find('div', attrs={'class':'title-info-metadata-item'}))\n",
    "        info.append(soup.find('div', attrs={'class':'item-description-text'}))\n",
    "        info.append(soup.find('span', attrs={'class':'js-item-price'}))\n",
    "        \n",
    "        location = soup.find('div', attrs={'class':'item-map-location'})            \n",
    "        if location is not None:     \n",
    "            info.append(location.find('span', attrs={'itemprop': 'name'}))\n",
    "            info.append(location.find(lambda tag: len(tag.attrs) == 0))\n",
    "        \n",
    "        for elem in info:\n",
    "            if elem is not None:\n",
    "                text += '\\n'\n",
    "                text += elem.text.strip(' \\n') \n",
    "        if text != url:\n",
    "            return text\n",
    "        else:\n",
    "            return None\n",
    "    \n",
    "    def write_doc(self, text, url):\n",
    "        '''\n",
    "        Write down item's metadata as .txt file.\n",
    "        text: str: metadata to be wtitten\n",
    "        url: str: url of an item\n",
    "        return: \n",
    "        '''\n",
    "        if not os.path.exists('./avito_texts'):\n",
    "            os.makedirs('./avito_texts')\n",
    "        with open(r'./avito_texts/www.avito.ru%s.txt' %(url.replace('/', '=').replace('?', '&')), 'w', encoding='utf-8') as f:\n",
    "            f.write(text)\n",
    "        return\n",
    "        \n",
    "    def crowl(self):\n",
    "        '''\n",
    "        Iterate through all the items' pages, collect metadata and write it down.\n",
    "        return:\n",
    "        '''\n",
    "        for link in tqdm(self.links):\n",
    "            req = requests.get(self.main+link, headers=self.headers)\n",
    "            html = req.text\n",
    "            soup = BeautifulSoup(html, \"lxml\")\n",
    "            text = self.parse_page(soup, req.url)\n",
    "            if text is not None:\n",
    "                self.write_doc(text, link)\n",
    "            time.sleep(random.randint(1,4))\n",
    "        return            \n",
    "            "
   ]
  },
  {
   "cell_type": "code",
   "execution_count": 107,
   "metadata": {
    "collapsed": true
   },
   "outputs": [],
   "source": [
    "parser = PageParser()"
   ]
  },
  {
   "cell_type": "code",
   "execution_count": 109,
   "metadata": {},
   "outputs": [],
   "source": [
    "parser.collect_links()"
   ]
  },
  {
   "cell_type": "code",
   "execution_count": 111,
   "metadata": {},
   "outputs": [
    {
     "data": {
      "text/plain": [
       "5653"
      ]
     },
     "execution_count": 111,
     "metadata": {},
     "output_type": "execute_result"
    }
   ],
   "source": [
    "len(parser.links)"
   ]
  },
  {
   "cell_type": "code",
   "execution_count": 117,
   "metadata": {},
   "outputs": [
    {
     "name": "stderr",
     "output_type": "stream",
     "text": [
      "  4%|█▍                                   | 229/5653 [11:43<4:37:42,  3.07s/it]"
     ]
    },
    {
     "name": "stdout",
     "output_type": "stream",
     "text": [
      "https://www.avito.ru/nizhniy_novgorod/bilety_i_puteshestviya/kontserty\n"
     ]
    },
    {
     "name": "stderr",
     "output_type": "stream",
     "text": [
      " 12%|████▌                                | 688/5653 [34:12<4:06:49,  2.98s/it]"
     ]
    },
    {
     "name": "stdout",
     "output_type": "stream",
     "text": [
      "https://www.avito.ru/moskva/bilety_i_puteshestviya/kontserty\n"
     ]
    },
    {
     "name": "stderr",
     "output_type": "stream",
     "text": [
      " 13%|████▋                                | 725/5653 [35:57<4:04:27,  2.98s/it]"
     ]
    },
    {
     "name": "stdout",
     "output_type": "stream",
     "text": [
      "https://www.avito.ru/samara/bilety_i_puteshestviya/karty_kupony\n"
     ]
    },
    {
     "name": "stderr",
     "output_type": "stream",
     "text": [
      "\r",
      " 13%|████▊                                | 726/5653 [36:01<4:04:26,  2.98s/it]"
     ]
    },
    {
     "name": "stdout",
     "output_type": "stream",
     "text": [
      "https://www.avito.ru/moskva/bilety_i_puteshestviya/puteshestviya\n"
     ]
    },
    {
     "name": "stderr",
     "output_type": "stream",
     "text": [
      " 14%|█████▎                               | 816/5653 [40:36<4:00:40,  2.99s/it]"
     ]
    },
    {
     "name": "stdout",
     "output_type": "stream",
     "text": [
      "https://www.avito.ru/sankt-peterburg/bilety_i_puteshestviya/sport\n"
     ]
    },
    {
     "name": "stderr",
     "output_type": "stream",
     "text": [
      " 15%|█████▍                               | 829/5653 [41:14<4:00:02,  2.99s/it]"
     ]
    },
    {
     "name": "stdout",
     "output_type": "stream",
     "text": [
      "https://www.avito.ru/kaliningrad/bilety_i_puteshestviya/sport\n"
     ]
    },
    {
     "name": "stderr",
     "output_type": "stream",
     "text": [
      " 15%|█████▍                               | 831/5653 [41:21<3:59:59,  2.99s/it]"
     ]
    },
    {
     "name": "stdout",
     "output_type": "stream",
     "text": [
      "https://www.avito.ru/volgograd/bilety_i_puteshestviya/teatr_opera_balet\n"
     ]
    },
    {
     "name": "stderr",
     "output_type": "stream",
     "text": [
      " 16%|█████▉                               | 901/5653 [44:52<3:56:41,  2.99s/it]"
     ]
    },
    {
     "name": "stdout",
     "output_type": "stream",
     "text": [
      "https://www.avito.ru/moskva/bilety_i_puteshestviya/karty_kupony\n"
     ]
    },
    {
     "name": "stderr",
     "output_type": "stream",
     "text": [
      " 28%|█████████▌                        | 1580/5653 [1:18:19<3:21:53,  2.97s/it]"
     ]
    },
    {
     "name": "stdout",
     "output_type": "stream",
     "text": [
      "https://www.avito.ru/novocherkassk/bilety_i_puteshestviya/karty_kupony\n"
     ]
    },
    {
     "name": "stderr",
     "output_type": "stream",
     "text": [
      " 29%|██████████                        | 1666/5653 [1:22:37<3:17:43,  2.98s/it]"
     ]
    },
    {
     "name": "stdout",
     "output_type": "stream",
     "text": [
      "https://www.avito.ru/sankt-peterburg/bilety_i_puteshestviya/teatr_opera_balet\n"
     ]
    },
    {
     "name": "stderr",
     "output_type": "stream",
     "text": [
      " 30%|██████████                        | 1668/5653 [1:22:43<3:17:39,  2.98s/it]"
     ]
    },
    {
     "name": "stdout",
     "output_type": "stream",
     "text": [
      "https://www.avito.ru/yaroslavl/bilety_i_puteshestviya/karty_kupony\n"
     ]
    },
    {
     "name": "stderr",
     "output_type": "stream",
     "text": [
      " 32%|██████████▉                       | 1824/5653 [1:30:26<3:09:51,  2.98s/it]"
     ]
    },
    {
     "name": "stdout",
     "output_type": "stream",
     "text": [
      "https://www.avito.ru/sankt-peterburg/bilety_i_puteshestviya/karty_kupony\n"
     ]
    },
    {
     "name": "stderr",
     "output_type": "stream",
     "text": [
      " 40%|█████████████▌                    | 2252/5653 [1:51:50<2:48:53,  2.98s/it]"
     ]
    },
    {
     "name": "stdout",
     "output_type": "stream",
     "text": [
      "https://www.avito.ru/novokuznetsk/bilety_i_puteshestviya/karty_kupony\n"
     ]
    },
    {
     "name": "stderr",
     "output_type": "stream",
     "text": [
      " 43%|██████████████▋                   | 2432/5653 [2:00:23<2:39:27,  2.97s/it]"
     ]
    },
    {
     "name": "stdout",
     "output_type": "stream",
     "text": [
      "https://www.avito.ru/domodedovo/bilety_i_puteshestviya/karty_kupony\n"
     ]
    },
    {
     "name": "stderr",
     "output_type": "stream",
     "text": [
      " 47%|███████████████▉                  | 2660/5653 [2:11:32<2:28:00,  2.97s/it]"
     ]
    },
    {
     "name": "stdout",
     "output_type": "stream",
     "text": [
      "https://www.avito.ru/samara/bilety_i_puteshestviya/kontserty\n"
     ]
    },
    {
     "name": "stderr",
     "output_type": "stream",
     "text": [
      " 47%|████████████████                  | 2676/5653 [2:12:19<2:27:12,  2.97s/it]"
     ]
    },
    {
     "name": "stdout",
     "output_type": "stream",
     "text": [
      "https://www.avito.ru/samara/bilety_i_puteshestviya/teatr_opera_balet\n"
     ]
    },
    {
     "name": "stderr",
     "output_type": "stream",
     "text": [
      " 52%|█████████████████▊                | 2959/5653 [2:26:07<2:13:02,  2.96s/it]"
     ]
    },
    {
     "name": "stdout",
     "output_type": "stream",
     "text": [
      "https://www.avito.ru/pervouralsk/bilety_i_puteshestviya/karty_kupony\n"
     ]
    },
    {
     "name": "stderr",
     "output_type": "stream",
     "text": [
      " 56%|██████████████████▉               | 3150/5653 [2:35:48<2:03:48,  2.97s/it]"
     ]
    },
    {
     "name": "stdout",
     "output_type": "stream",
     "text": [
      "https://www.avito.ru/sankt-peterburg/bilety_i_puteshestviya/kontserty\n"
     ]
    },
    {
     "name": "stderr",
     "output_type": "stream",
     "text": [
      " 56%|███████████████████▏              | 3185/5653 [2:37:42<2:02:12,  2.97s/it]"
     ]
    },
    {
     "name": "stdout",
     "output_type": "stream",
     "text": [
      "https://www.avito.ru/nizhniy_novgorod/bilety_i_puteshestviya/kontserty\n"
     ]
    },
    {
     "name": "stderr",
     "output_type": "stream",
     "text": [
      " 57%|███████████████████▎              | 3210/5653 [2:38:50<2:00:53,  2.97s/it]"
     ]
    },
    {
     "name": "stdout",
     "output_type": "stream",
     "text": [
      "https://www.avito.ru/kaliningrad/bilety_i_puteshestviya/sport\n"
     ]
    },
    {
     "name": "stderr",
     "output_type": "stream",
     "text": [
      " 61%|████████████████████▉             | 3473/5653 [2:51:21<1:47:33,  2.96s/it]"
     ]
    },
    {
     "name": "stdout",
     "output_type": "stream",
     "text": [
      "https://www.avito.ru/moskva/bilety_i_puteshestviya/kontserty\n"
     ]
    },
    {
     "name": "stderr",
     "output_type": "stream",
     "text": [
      " 62%|█████████████████████             | 3496/5653 [2:52:30<1:46:26,  2.96s/it]"
     ]
    },
    {
     "name": "stdout",
     "output_type": "stream",
     "text": [
      "https://www.avito.ru/moskva/bilety_i_puteshestviya/sport\n"
     ]
    },
    {
     "name": "stderr",
     "output_type": "stream",
     "text": [
      " 62%|█████████████████████▏            | 3515/5653 [2:53:30<1:45:32,  2.96s/it]"
     ]
    },
    {
     "name": "stdout",
     "output_type": "stream",
     "text": [
      "https://www.avito.ru/magnitogorsk/bilety_i_puteshestviya/sport\n"
     ]
    },
    {
     "name": "stderr",
     "output_type": "stream",
     "text": [
      " 63%|█████████████████████▍            | 3563/5653 [2:55:51<1:43:09,  2.96s/it]"
     ]
    },
    {
     "name": "stdout",
     "output_type": "stream",
     "text": [
      "https://www.avito.ru/kaliningrad/bilety_i_puteshestviya/sport\n"
     ]
    },
    {
     "name": "stderr",
     "output_type": "stream",
     "text": [
      " 64%|█████████████████████▊            | 3618/5653 [2:58:39<1:40:29,  2.96s/it]"
     ]
    },
    {
     "name": "stdout",
     "output_type": "stream",
     "text": [
      "https://www.avito.ru/moskva/bilety_i_puteshestviya/karty_kupony\n"
     ]
    },
    {
     "name": "stderr",
     "output_type": "stream",
     "text": [
      " 68%|██████████████████████▉           | 3819/5653 [3:08:00<1:30:17,  2.95s/it]"
     ]
    },
    {
     "name": "stdout",
     "output_type": "stream",
     "text": [
      "https://www.avito.ru/krasnodar/bilety_i_puteshestviya/kontserty\n"
     ]
    },
    {
     "name": "stderr",
     "output_type": "stream",
     "text": [
      " 72%|████████████████████████▎         | 4051/5653 [3:18:56<1:18:40,  2.95s/it]"
     ]
    },
    {
     "name": "stdout",
     "output_type": "stream",
     "text": [
      "https://www.avito.ru/magnitogorsk/bilety_i_puteshestviya/karty_kupony\n"
     ]
    },
    {
     "name": "stderr",
     "output_type": "stream",
     "text": [
      " 72%|████████████████████████▋         | 4096/5653 [3:21:03<1:16:25,  2.95s/it]"
     ]
    },
    {
     "name": "stdout",
     "output_type": "stream",
     "text": [
      "https://www.avito.ru/moskva/bilety_i_puteshestviya/kontserty\n"
     ]
    },
    {
     "name": "stderr",
     "output_type": "stream",
     "text": [
      " 73%|████████████████████████▊         | 4128/5653 [3:22:33<1:14:49,  2.94s/it]"
     ]
    },
    {
     "name": "stdout",
     "output_type": "stream",
     "text": [
      "https://www.avito.ru/polessk/bilety_i_puteshestviya/sport\n"
     ]
    },
    {
     "name": "stderr",
     "output_type": "stream",
     "text": [
      " 74%|█████████████████████████         | 4162/5653 [3:24:03<1:13:06,  2.94s/it]"
     ]
    },
    {
     "name": "stdout",
     "output_type": "stream",
     "text": [
      "https://www.avito.ru/moskva/bilety_i_puteshestviya/teatr_opera_balet\n"
     ]
    },
    {
     "name": "stderr",
     "output_type": "stream",
     "text": [
      " 74%|█████████████████████████▏        | 4188/5653 [3:25:27<1:11:52,  2.94s/it]"
     ]
    },
    {
     "name": "stdout",
     "output_type": "stream",
     "text": [
      "https://www.avito.ru/moskva/bilety_i_puteshestviya/kontserty\n"
     ]
    },
    {
     "name": "stderr",
     "output_type": "stream",
     "text": [
      " 82%|█████████████████████████████▎      | 4608/5653 [3:46:29<51:21,  2.95s/it]"
     ]
    },
    {
     "name": "stdout",
     "output_type": "stream",
     "text": [
      "https://www.avito.ru/habarovsk/bilety_i_puteshestviya/kontserty\n"
     ]
    },
    {
     "name": "stderr",
     "output_type": "stream",
     "text": [
      " 84%|██████████████████████████████▏     | 4742/5653 [3:52:41<44:42,  2.94s/it]"
     ]
    },
    {
     "name": "stdout",
     "output_type": "stream",
     "text": [
      "https://www.avito.ru/moskva/bilety_i_puteshestviya/teatr_opera_balet\n"
     ]
    },
    {
     "name": "stderr",
     "output_type": "stream",
     "text": [
      " 85%|██████████████████████████████▋     | 4818/5653 [3:56:14<40:56,  2.94s/it]"
     ]
    },
    {
     "name": "stdout",
     "output_type": "stream",
     "text": [
      "https://www.avito.ru/kazan/bilety_i_puteshestviya/karty_kupony\n"
     ]
    },
    {
     "name": "stderr",
     "output_type": "stream",
     "text": [
      " 87%|███████████████████████████████▍    | 4941/5653 [4:02:18<34:54,  2.94s/it]"
     ]
    },
    {
     "name": "stdout",
     "output_type": "stream",
     "text": [
      "https://www.avito.ru/novosibirsk/bilety_i_puteshestviya/karty_kupony\n"
     ]
    },
    {
     "name": "stderr",
     "output_type": "stream",
     "text": [
      " 87%|███████████████████████████████▍    | 4946/5653 [4:02:29<34:39,  2.94s/it]"
     ]
    },
    {
     "name": "stdout",
     "output_type": "stream",
     "text": [
      "https://www.avito.ru/chelyabinsk/bilety_i_puteshestviya/kontserty\n"
     ]
    },
    {
     "name": "stderr",
     "output_type": "stream",
     "text": [
      " 90%|████████████████████████████████▎   | 5070/5653 [4:08:25<28:33,  2.94s/it]"
     ]
    },
    {
     "name": "stdout",
     "output_type": "stream",
     "text": [
      "https://www.avito.ru/voronezh/bilety_i_puteshestviya/puteshestviya\n"
     ]
    },
    {
     "name": "stderr",
     "output_type": "stream",
     "text": [
      " 93%|█████████████████████████████████▍  | 5252/5653 [4:17:14<19:38,  2.94s/it]"
     ]
    },
    {
     "name": "stdout",
     "output_type": "stream",
     "text": [
      "https://www.avito.ru/moskva/bilety_i_puteshestviya/teatr_opera_balet\n"
     ]
    },
    {
     "name": "stderr",
     "output_type": "stream",
     "text": [
      " 96%|██████████████████████████████████▍ | 5412/5653 [4:24:57<11:47,  2.94s/it]"
     ]
    },
    {
     "name": "stdout",
     "output_type": "stream",
     "text": [
      "https://www.avito.ru/ekaterinburg/bilety_i_puteshestviya/kontserty\n"
     ]
    },
    {
     "name": "stderr",
     "output_type": "stream",
     "text": [
      " 97%|██████████████████████████████████▊ | 5458/5653 [4:27:11<09:32,  2.94s/it]"
     ]
    },
    {
     "name": "stdout",
     "output_type": "stream",
     "text": [
      "https://www.avito.ru/kaliningrad/bilety_i_puteshestviya/sport\n"
     ]
    },
    {
     "name": "stderr",
     "output_type": "stream",
     "text": [
      " 99%|███████████████████████████████████▋| 5605/5653 [4:34:13<02:20,  2.94s/it]"
     ]
    },
    {
     "name": "stdout",
     "output_type": "stream",
     "text": [
      "https://www.avito.ru/sochi/bilety_i_puteshestviya/sport\n"
     ]
    },
    {
     "name": "stderr",
     "output_type": "stream",
     "text": [
      "100%|████████████████████████████████████| 5653/5653 [4:36:26<00:00,  2.93s/it]\n"
     ]
    }
   ],
   "source": [
    "parser.crowl()"
   ]
  }
 ],
 "metadata": {
  "kernelspec": {
   "display_name": "Python 3",
   "language": "python",
   "name": "python3"
  },
  "language_info": {
   "codemirror_mode": {
    "name": "ipython",
    "version": 3
   },
   "file_extension": ".py",
   "mimetype": "text/x-python",
   "name": "python",
   "nbconvert_exporter": "python",
   "pygments_lexer": "ipython3",
   "version": "3.5.1"
  }
 },
 "nbformat": 4,
 "nbformat_minor": 2
}
