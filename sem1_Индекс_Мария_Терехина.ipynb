{
 "cells": [
  {
   "cell_type": "markdown",
   "metadata": {},
   "source": [
    "## Мария Терехина, 152 группа"
   ]
  },
  {
   "cell_type": "markdown",
   "metadata": {},
   "source": [
    "### чтение файла \n",
    "- конструкция __with open__ (recommended)\n",
    "- конструкция __open + close__"
   ]
  },
  {
   "cell_type": "code",
   "execution_count": 1,
   "metadata": {
    "collapsed": true
   },
   "outputs": [],
   "source": [
    "import os"
   ]
  },
  {
   "cell_type": "code",
   "execution_count": 3,
   "metadata": {
    "collapsed": true
   },
   "outputs": [],
   "source": [
    "fpath = 'fpath.txt'\n",
    "\n",
    "# одним массивом  \n",
    "with open(fpath, 'r') as f:  \n",
    "    text = f.read() \n",
    "\n",
    "#по строкам, в конце каждой строки \\n  \n",
    "with open(fpath, 'r') as f:   \n",
    "    text = f.readlines() \n",
    "\n",
    "#по строкам, без \\n   \n",
    "with open(fpath, 'r') as f:   \n",
    "    text = f.read().splitlines() \n",
    "    \n",
    "#not reccomended  \n",
    "file = open(fpath, 'r')  \n",
    "text = file.read()    \n",
    "file.close() "
   ]
  },
  {
   "cell_type": "markdown",
   "metadata": {},
   "source": [
    "### работа с файлами и папками"
   ]
  },
  {
   "cell_type": "markdown",
   "metadata": {},
   "source": [
    "### os.path  \n",
    "путь до файла"
   ]
  },
  {
   "cell_type": "markdown",
   "metadata": {},
   "source": [
    "### os.listdir  \n",
    "возвращает список файлов в данной директории"
   ]
  },
  {
   "cell_type": "code",
   "execution_count": 122,
   "metadata": {},
   "outputs": [
    {
     "data": {
      "text/plain": [
       "['Friends', 'sem1_Индекс.ipynb']"
      ]
     },
     "execution_count": 122,
     "metadata": {},
     "output_type": "execute_result"
    }
   ],
   "source": [
    "main_dir = r'C:\\\\Users\\\\Masha\\\\Documents\\\\Infosearch'\n",
    "os.listdir(main_dir)"
   ]
  },
  {
   "cell_type": "markdown",
   "metadata": {},
   "source": [
    "сделаем пути абсолютными, чтобы наш код не зависел от того, где лежит этот файл"
   ]
  },
  {
   "cell_type": "code",
   "execution_count": 123,
   "metadata": {},
   "outputs": [
    {
     "data": {
      "text/plain": [
       "['C:\\\\\\\\Users\\\\\\\\Masha\\\\\\\\Documents\\\\\\\\Infosearch\\\\Friends',\n",
       " 'C:\\\\\\\\Users\\\\\\\\Masha\\\\\\\\Documents\\\\\\\\Infosearch\\\\sem1_Индекс.ipynb']"
      ]
     },
     "execution_count": 123,
     "metadata": {},
     "output_type": "execute_result"
    }
   ],
   "source": [
    "[main_dir + os.sep + fpath for fpath in os.listdir(main_dir)]"
   ]
  },
  {
   "cell_type": "markdown",
   "metadata": {},
   "source": [
    "не забывайте исключать системные директории, такие как .DS_Store"
   ]
  },
  {
   "cell_type": "code",
   "execution_count": 124,
   "metadata": {},
   "outputs": [
    {
     "data": {
      "text/plain": [
       "['C:\\\\\\\\Users\\\\\\\\Masha\\\\\\\\Documents\\\\\\\\Infosearch\\\\Friends',\n",
       " 'C:\\\\\\\\Users\\\\\\\\Masha\\\\\\\\Documents\\\\\\\\Infosearch\\\\sem1_Индекс.ipynb']"
      ]
     },
     "execution_count": 124,
     "metadata": {},
     "output_type": "execute_result"
    }
   ],
   "source": [
    "[main_dir + os.sep + fpath for fpath in os.listdir(main_dir) if not '.DS_Store' in fpath]"
   ]
  },
  {
   "cell_type": "markdown",
   "metadata": {},
   "source": [
    "### os.walk\n",
    "root - начальная директория  \n",
    "dirs - список поддиректорий (папок)   \n",
    "files - список файлов в этих поддиректориях  "
   ]
  },
  {
   "cell_type": "code",
   "execution_count": 127,
   "metadata": {},
   "outputs": [
    {
     "name": "stdout",
     "output_type": "stream",
     "text": [
      "C:\\Users\\Masha\\Documents\\Infosearch\\sem1_Индекс.ipynb\n",
      "C:\\Users\\Masha\\Documents\\Infosearch\\Friends\\Friends - season 1\\Friends - 1x01 - The One Where Monica Gets A Roommate.ru.txt\n",
      "C:\\Users\\Masha\\Documents\\Infosearch\\Friends\\Friends - season 1\\Friends - 1x02 - The One With The Sonogram At The End.ru.txt\n",
      "C:\\Users\\Masha\\Documents\\Infosearch\\Friends\\Friends - season 1\\Friends - 1x03 - The One With The Thumb.ru.txt\n",
      "C:\\Users\\Masha\\Documents\\Infosearch\\Friends\\Friends - season 1\\Friends - 1x04 - The One With George Stephanopoulos.ru.txt\n",
      "C:\\Users\\Masha\\Documents\\Infosearch\\Friends\\Friends - season 1\\Friends - 1x05 - The One With The East German Laundry Detergent.ru.txt\n",
      "C:\\Users\\Masha\\Documents\\Infosearch\\Friends\\Friends - season 1\\Friends - 1x06 - The One With The Butt.ru.txt\n",
      "C:\\Users\\Masha\\Documents\\Infosearch\\Friends\\Friends - season 1\\Friends - 1x07 - The One With The Blackout.ru.txt\n",
      "C:\\Users\\Masha\\Documents\\Infosearch\\Friends\\Friends - season 1\\Friends - 1x08 - The One Where Nana Dies Twice.ru.txt\n",
      "C:\\Users\\Masha\\Documents\\Infosearch\\Friends\\Friends - season 1\\Friends - 1x09 - The One Where Underdog Gets Away.ru.txt\n",
      "C:\\Users\\Masha\\Documents\\Infosearch\\Friends\\Friends - season 1\\Friends - 1x10 - The One With The Monkey.ru.txt\n",
      "C:\\Users\\Masha\\Documents\\Infosearch\\Friends\\Friends - season 1\\Friends - 1x11 - The One With Mrs. Bing.ru.txt\n",
      "C:\\Users\\Masha\\Documents\\Infosearch\\Friends\\Friends - season 1\\Friends - 1x12 - The One With The Dozen Lasagnas.ru.txt\n",
      "C:\\Users\\Masha\\Documents\\Infosearch\\Friends\\Friends - season 1\\Friends - 1x13 - The One With The Boobies.ru.txt\n",
      "C:\\Users\\Masha\\Documents\\Infosearch\\Friends\\Friends - season 1\\Friends - 1x14 - The One With The Candy Hearts.ru.txt\n",
      "C:\\Users\\Masha\\Documents\\Infosearch\\Friends\\Friends - season 1\\Friends - 1x15 - The One With The Stoned Guy.ru.txt\n",
      "C:\\Users\\Masha\\Documents\\Infosearch\\Friends\\Friends - season 1\\Friends - 1x16 - The One With Two Parts (1).ru.txt\n",
      "C:\\Users\\Masha\\Documents\\Infosearch\\Friends\\Friends - season 1\\Friends - 1x17 - The One With Two Parts (2).ru.txt\n",
      "C:\\Users\\Masha\\Documents\\Infosearch\\Friends\\Friends - season 1\\Friends - 1x18 - The One With All The Poker.ru.txt\n",
      "C:\\Users\\Masha\\Documents\\Infosearch\\Friends\\Friends - season 1\\Friends - 1x19 - The One Where The Monkey Gets Away.ru.txt\n",
      "C:\\Users\\Masha\\Documents\\Infosearch\\Friends\\Friends - season 1\\Friends - 1x20 - The One With The Evil Orthodontist.ru.txt\n",
      "C:\\Users\\Masha\\Documents\\Infosearch\\Friends\\Friends - season 2\\Friends - 2x01 - The One With Ross's New Girlfriend.DVDRip.ru.txt\n",
      "C:\\Users\\Masha\\Documents\\Infosearch\\Friends\\Friends - season 2\\Friends - 2x01 - The One With Ross's New Girlfriend.ru.txt\n",
      "C:\\Users\\Masha\\Documents\\Infosearch\\Friends\\Friends - season 2\\Friends - 2x02 - The One With The Breast Milk.ru.txt\n",
      "C:\\Users\\Masha\\Documents\\Infosearch\\Friends\\Friends - season 2\\Friends - 2x03 - The One Where Heckles Dies.ru.txt\n",
      "C:\\Users\\Masha\\Documents\\Infosearch\\Friends\\Friends - season 2\\Friends - 2x04 - The One With Phoebe's Husband.ru.txt\n",
      "C:\\Users\\Masha\\Documents\\Infosearch\\Friends\\Friends - season 2\\Friends - 2x05 - The One With Five Steaks And An Eggplant.ru.txt\n",
      "C:\\Users\\Masha\\Documents\\Infosearch\\Friends\\Friends - season 2\\Friends - 2x06 - The One With The Baby On The Bus.ru.txt\n",
      "C:\\Users\\Masha\\Documents\\Infosearch\\Friends\\Friends - season 2\\Friends - 2x07 - The One Where Ross Finds Out.ru.txt\n",
      "C:\\Users\\Masha\\Documents\\Infosearch\\Friends\\Friends - season 2\\Friends - 2x08 - The One With The List.ru.txt\n",
      "C:\\Users\\Masha\\Documents\\Infosearch\\Friends\\Friends - season 2\\Friends - 2x09 - The One With Phoebe's Dad.ru.txt\n",
      "C:\\Users\\Masha\\Documents\\Infosearch\\Friends\\Friends - season 2\\Friends - 2x10 - The One With Russ.ru.txt\n",
      "C:\\Users\\Masha\\Documents\\Infosearch\\Friends\\Friends - season 2\\Friends - 2x11 - The One With The Lesbian Wedding.ru.txt\n",
      "C:\\Users\\Masha\\Documents\\Infosearch\\Friends\\Friends - season 2\\Friends - 2x12 - The One After The Super Bowl (1).ru.txt\n",
      "C:\\Users\\Masha\\Documents\\Infosearch\\Friends\\Friends - season 2\\Friends - 2x13 - The One After The Super Bowl (2).ru.txt\n",
      "C:\\Users\\Masha\\Documents\\Infosearch\\Friends\\Friends - season 2\\Friends - 2x14 - The One With The Prom Video.ru.txt\n",
      "C:\\Users\\Masha\\Documents\\Infosearch\\Friends\\Friends - season 2\\Friends - 2x15 - The One Where Ross And Rachel...You Know.ru.txt\n",
      "C:\\Users\\Masha\\Documents\\Infosearch\\Friends\\Friends - season 2\\Friends - 2x16 - The One Where Joey Moves Out.ru.txt\n",
      "C:\\Users\\Masha\\Documents\\Infosearch\\Friends\\Friends - season 2\\Friends - 2x17 - The One Where Eddie Moves In.ru.txt\n",
      "C:\\Users\\Masha\\Documents\\Infosearch\\Friends\\Friends - season 2\\Friends - 2x18 - The One Where Dr. Ramoray Dies.ru.txt\n",
      "C:\\Users\\Masha\\Documents\\Infosearch\\Friends\\Friends - season 2\\Friends - 2x19 - The One Where Eddie Won't Go.ru.txt\n",
      "C:\\Users\\Masha\\Documents\\Infosearch\\Friends\\Friends - season 2\\Friends - 2x20 - The One Where Old Yeller Dies.NurlanB.ru.txt\n",
      "C:\\Users\\Masha\\Documents\\Infosearch\\Friends\\Friends - season 2\\Friends - 2x21 - The One With The Bullies.ru.txt\n",
      "C:\\Users\\Masha\\Documents\\Infosearch\\Friends\\Friends - season 2\\Friends - 2x22 - The One With The Two Parties.ru.txt\n",
      "C:\\Users\\Masha\\Documents\\Infosearch\\Friends\\Friends - season 2\\Friends - 2x23 - The One With The Chicken Pox.ru.txt\n",
      "C:\\Users\\Masha\\Documents\\Infosearch\\Friends\\Friends - season 2\\Friends - 2x24 - The One With Barry And Mindy's Wedding.ru.txt\n",
      "C:\\Users\\Masha\\Documents\\Infosearch\\Friends\\Friends - season 3\\Friends - 3x01 - The One With The Princess Leia Fantasy.ru.txt\n",
      "C:\\Users\\Masha\\Documents\\Infosearch\\Friends\\Friends - season 3\\Friends - 3x02 - The One Where No One's Ready.ru.txt\n",
      "C:\\Users\\Masha\\Documents\\Infosearch\\Friends\\Friends - season 3\\Friends - 3x03 - The One With The Jam.ru.txt\n",
      "C:\\Users\\Masha\\Documents\\Infosearch\\Friends\\Friends - season 3\\Friends - 3x04 - The One With The Metaphorical Tunnel.ru.txt\n",
      "C:\\Users\\Masha\\Documents\\Infosearch\\Friends\\Friends - season 3\\Friends - 3x05 - The One With Frank Jr..ru.txt\n",
      "C:\\Users\\Masha\\Documents\\Infosearch\\Friends\\Friends - season 3\\Friends - 3x06 - The One With The Flashback.ru.txt\n",
      "C:\\Users\\Masha\\Documents\\Infosearch\\Friends\\Friends - season 3\\Friends - 3x07 - The One With The Race Car Bed.ru.txt\n",
      "C:\\Users\\Masha\\Documents\\Infosearch\\Friends\\Friends - season 3\\Friends - 3x08 - The One With The Giant Poking Device.ru.txt\n",
      "C:\\Users\\Masha\\Documents\\Infosearch\\Friends\\Friends - season 3\\Friends - 3x09 - The One With The Football.ru.txt\n",
      "C:\\Users\\Masha\\Documents\\Infosearch\\Friends\\Friends - season 3\\Friends - 3x10 - The One Where Rachel Quits.ru.txt\n",
      "C:\\Users\\Masha\\Documents\\Infosearch\\Friends\\Friends - season 3\\Friends - 3x11 - The One Where Chandler Can't Remember Which Sister.ru.txt\n",
      "C:\\Users\\Masha\\Documents\\Infosearch\\Friends\\Friends - season 3\\Friends - 3x12 - The One With All The Jealousy.ru.txt\n",
      "C:\\Users\\Masha\\Documents\\Infosearch\\Friends\\Friends - season 3\\Friends - 3x13 - The One Where Monica And Richard Are Just Friends.ru.txt\n",
      "C:\\Users\\Masha\\Documents\\Infosearch\\Friends\\Friends - season 3\\Friends - 3x14 - The One With Phoebe's Ex-Partner.ru.txt\n",
      "C:\\Users\\Masha\\Documents\\Infosearch\\Friends\\Friends - season 3\\Friends - 3x15 - The One Where Ross And Rachel Take A Break (1).ru.txt\n",
      "C:\\Users\\Masha\\Documents\\Infosearch\\Friends\\Friends - season 3\\Friends - 3x16 - The One With The Morning After (2).ru.txt\n",
      "C:\\Users\\Masha\\Documents\\Infosearch\\Friends\\Friends - season 3\\Friends - 3x17 - The One Without The Ski Trip.ru.txt\n",
      "C:\\Users\\Masha\\Documents\\Infosearch\\Friends\\Friends - season 3\\Friends - 3x18 - The One With The Hypnosis Tape.ru.txt\n",
      "C:\\Users\\Masha\\Documents\\Infosearch\\Friends\\Friends - season 3\\Friends - 3x19 - The One With The Tiny T-Shirt.ru.txt\n",
      "C:\\Users\\Masha\\Documents\\Infosearch\\Friends\\Friends - season 3\\Friends - 3x20 - The One With The Dollhouse.ru.txt\n",
      "C:\\Users\\Masha\\Documents\\Infosearch\\Friends\\Friends - season 3\\Friends - 3x21 - The One With A Chick And A Duck.ru.txt\n",
      "C:\\Users\\Masha\\Documents\\Infosearch\\Friends\\Friends - season 4\\Friends - 4x01 - The One With The Jellyfish.ru.txt\n",
      "C:\\Users\\Masha\\Documents\\Infosearch\\Friends\\Friends - season 4\\Friends - 4x01 - The One With The Jellyfish.Tv.ru.txt\n"
     ]
    },
    {
     "name": "stdout",
     "output_type": "stream",
     "text": [
      "C:\\Users\\Masha\\Documents\\Infosearch\\Friends\\Friends - season 4\\Friends - 4x02 - The One With The Cat.ru.txt\n",
      "C:\\Users\\Masha\\Documents\\Infosearch\\Friends\\Friends - season 4\\Friends - 4x02 - The One With The Cat.Tv.ru.txt\n",
      "C:\\Users\\Masha\\Documents\\Infosearch\\Friends\\Friends - season 4\\Friends - 4x03 - The One With The 'Cuffs.ru.txt\n",
      "C:\\Users\\Masha\\Documents\\Infosearch\\Friends\\Friends - season 4\\Friends - 4x04 - The One With The Ballroom Dancing.ru.txt\n",
      "C:\\Users\\Masha\\Documents\\Infosearch\\Friends\\Friends - season 4\\Friends - 4x05 - The One With Joey's New Girlfriend.ru.txt\n",
      "C:\\Users\\Masha\\Documents\\Infosearch\\Friends\\Friends - season 4\\Friends - 4x06 - The One With The Dirty Girl.ru.txt\n",
      "C:\\Users\\Masha\\Documents\\Infosearch\\Friends\\Friends - season 4\\Friends - 4x07 - The One Where Chandler Crosses The Line.ru.txt\n",
      "C:\\Users\\Masha\\Documents\\Infosearch\\Friends\\Friends - season 4\\Friends - 4x08 - The One With Chandler In A Box.ru.txt\n",
      "C:\\Users\\Masha\\Documents\\Infosearch\\Friends\\Friends - season 4\\Friends - 4x09 - The One Where They're Going To Party!.ru.txt\n",
      "C:\\Users\\Masha\\Documents\\Infosearch\\Friends\\Friends - season 4\\Friends - 4x10 - The One With The Girl From Poughkeepsie.ru.txt\n",
      "C:\\Users\\Masha\\Documents\\Infosearch\\Friends\\Friends - season 4\\Friends - 4x11 - The One With Phoebe's Uterus.ru.txt\n",
      "C:\\Users\\Masha\\Documents\\Infosearch\\Friends\\Friends - season 4\\Friends - 4x12 - The One With The Embryos.ru.txt\n",
      "C:\\Users\\Masha\\Documents\\Infosearch\\Friends\\Friends - season 4\\Friends - 4x13 - The One With Rachel's Crush.ru.txt\n",
      "C:\\Users\\Masha\\Documents\\Infosearch\\Friends\\Friends - season 4\\Friends - 4x14 - The One With Joey's Dirty Day.ru.txt\n",
      "C:\\Users\\Masha\\Documents\\Infosearch\\Friends\\Friends - season 4\\Friends - 4x15 - The One With All The Rugby.ru.txt\n",
      "C:\\Users\\Masha\\Documents\\Infosearch\\Friends\\Friends - season 4\\Friends - 4x16 - The One With The Fake Party.ru.txt\n",
      "C:\\Users\\Masha\\Documents\\Infosearch\\Friends\\Friends - season 4\\Friends - 4x17 - The One With The Free Porn.ru.txt\n",
      "C:\\Users\\Masha\\Documents\\Infosearch\\Friends\\Friends - season 4\\Friends - 4x18 - The One With Rachel's New Dress.ru.txt\n",
      "C:\\Users\\Masha\\Documents\\Infosearch\\Friends\\Friends - season 4\\Friends - 4x19 - The One With All The Haste.ru.txt\n",
      "C:\\Users\\Masha\\Documents\\Infosearch\\Friends\\Friends - season 4\\Friends - 4x20 - The One With The Wedding Dresses.ru.txt\n",
      "C:\\Users\\Masha\\Documents\\Infosearch\\Friends\\Friends - season 4\\Friends - 4x21 - The One With The Invitations.ru.txt\n",
      "C:\\Users\\Masha\\Documents\\Infosearch\\Friends\\Friends - season 4\\Friends - 4x22 - The One With The Worst Best Man Ever.ru.txt\n",
      "C:\\Users\\Masha\\Documents\\Infosearch\\Friends\\Friends - season 4\\Friends - 4x23-24 - The One With Ross's Wedding (1).ru.txt\n",
      "C:\\Users\\Masha\\Documents\\Infosearch\\Friends\\Friends - season 4\\Friends - 4x24-25 - The One With Ross's Wedding (2).ru.txt\n",
      "C:\\Users\\Masha\\Documents\\Infosearch\\Friends\\Friends - season 5\\Friends - 5x01 - The One After Ross Says Rachel.ru.txt\n",
      "C:\\Users\\Masha\\Documents\\Infosearch\\Friends\\Friends - season 5\\Friends - 5x02 - The One With All The Kissing.ru.txt\n",
      "C:\\Users\\Masha\\Documents\\Infosearch\\Friends\\Friends - season 5\\Friends - 5x03 - The One Hundredth.ru.txt\n",
      "C:\\Users\\Masha\\Documents\\Infosearch\\Friends\\Friends - season 5\\Friends - 5x04 - The One Where Phoebe Hates PBS.ru.txt\n",
      "C:\\Users\\Masha\\Documents\\Infosearch\\Friends\\Friends - season 5\\Friends - 5x05 - The One With The Kips.ru.txt\n",
      "C:\\Users\\Masha\\Documents\\Infosearch\\Friends\\Friends - season 5\\Friends - 5x06 - The One With The Yeti.ru.txt\n",
      "C:\\Users\\Masha\\Documents\\Infosearch\\Friends\\Friends - season 5\\Friends - 5x07 - The One Where Ross Moves In.ru.txt\n",
      "C:\\Users\\Masha\\Documents\\Infosearch\\Friends\\Friends - season 5\\Friends - 5x08 - The One With The Thanksgiving Flashbacks.ru.txt\n",
      "C:\\Users\\Masha\\Documents\\Infosearch\\Friends\\Friends - season 5\\Friends - 5x09 - The One With Ross's Sandwich.ru.txt\n",
      "C:\\Users\\Masha\\Documents\\Infosearch\\Friends\\Friends - season 5\\Friends - 5x10 - The One With The Inappropriate Sister.ru.txt\n",
      "C:\\Users\\Masha\\Documents\\Infosearch\\Friends\\Friends - season 5\\Friends - 5x11 - The One With All The Resolutions.ru.txt\n",
      "C:\\Users\\Masha\\Documents\\Infosearch\\Friends\\Friends - season 5\\Friends - 5x12 - The One With Chandler's Work Laugh.ru.txt\n",
      "C:\\Users\\Masha\\Documents\\Infosearch\\Friends\\Friends - season 5\\Friends - 5x13 - The One With Joey's Bag.ru.txt\n",
      "C:\\Users\\Masha\\Documents\\Infosearch\\Friends\\Friends - season 5\\Friends - 5x14 - The One Where Everybody Finds Out.ru.txt\n",
      "C:\\Users\\Masha\\Documents\\Infosearch\\Friends\\Friends - season 5\\Friends - 5x15 - The One With The Girl Who Hits Joey.ru.txt\n",
      "C:\\Users\\Masha\\Documents\\Infosearch\\Friends\\Friends - season 5\\Friends - 5x16 - The One With The Cop.ru.txt\n",
      "C:\\Users\\Masha\\Documents\\Infosearch\\Friends\\Friends - season 5\\Friends - 5x17 - The One With Rachel's Inadvertent Kiss.ru.txt\n",
      "C:\\Users\\Masha\\Documents\\Infosearch\\Friends\\Friends - season 5\\Friends - 5x18 - The One Where Rachel Smokes.ru.txt\n",
      "C:\\Users\\Masha\\Documents\\Infosearch\\Friends\\Friends - season 5\\Friends - 5x19 - The One Where Ross Can't Flirt.ru.txt\n",
      "C:\\Users\\Masha\\Documents\\Infosearch\\Friends\\Friends - season 5\\Friends - 5x20 - The One With The Ride Along.ru.txt\n",
      "C:\\Users\\Masha\\Documents\\Infosearch\\Friends\\Friends - season 5\\Friends - 5x21 - The One With The Ball.ru.txt\n",
      "C:\\Users\\Masha\\Documents\\Infosearch\\Friends\\Friends - season 5\\Friends - 5x22 - The One With Joey's Big Break.ru.txt\n",
      "C:\\Users\\Masha\\Documents\\Infosearch\\Friends\\Friends - season 5\\Friends - 5x23-24 - The One In Vegas (1).ru.txt\n",
      "C:\\Users\\Masha\\Documents\\Infosearch\\Friends\\Friends - season 5\\Friends - 5x24-25 - The One In Vegas (2).ru.txt\n",
      "C:\\Users\\Masha\\Documents\\Infosearch\\Friends\\Friends - season 6\\Friends - 6x01 - The One After Vegas.ru.txt\n",
      "C:\\Users\\Masha\\Documents\\Infosearch\\Friends\\Friends - season 6\\Friends - 6x02 - The One Where Ross Hugs Rachel.ru.txt\n",
      "C:\\Users\\Masha\\Documents\\Infosearch\\Friends\\Friends - season 6\\Friends - 6x03 - The One With Ross's Denial.ru.txt\n",
      "C:\\Users\\Masha\\Documents\\Infosearch\\Friends\\Friends - season 6\\Friends - 6x04 - The One Where Joey Loses His Insurance.ru.txt\n",
      "C:\\Users\\Masha\\Documents\\Infosearch\\Friends\\Friends - season 6\\Friends - 6x05 - The One With Joey's Porsche.ru.txt\n",
      "C:\\Users\\Masha\\Documents\\Infosearch\\Friends\\Friends - season 6\\Friends - 6x06 - The One On The Last Night.ru.txt\n",
      "C:\\Users\\Masha\\Documents\\Infosearch\\Friends\\Friends - season 6\\Friends - 6x07 - The One Where Phoebe Runs.ru.txt\n",
      "C:\\Users\\Masha\\Documents\\Infosearch\\Friends\\Friends - season 6\\Friends - 6x08 - The One With Ross's Teeth.ru.txt\n",
      "C:\\Users\\Masha\\Documents\\Infosearch\\Friends\\Friends - season 6\\Friends - 6x09 - The One Where Ross Got High.ru.txt\n",
      "C:\\Users\\Masha\\Documents\\Infosearch\\Friends\\Friends - season 6\\Friends - 6x10 - The One With The Routine.ru.txt\n",
      "C:\\Users\\Masha\\Documents\\Infosearch\\Friends\\Friends - season 6\\Friends - 6x11 - The One With The Apothecary Table.ru.txt\n",
      "C:\\Users\\Masha\\Documents\\Infosearch\\Friends\\Friends - season 6\\Friends - 6x12 - The One With The Joke.ru.txt\n",
      "C:\\Users\\Masha\\Documents\\Infosearch\\Friends\\Friends - season 6\\Friends - 6x13 - The One With Rachel's Sister (1).ru.txt\n",
      "C:\\Users\\Masha\\Documents\\Infosearch\\Friends\\Friends - season 6\\Friends - 6x14 - The One Where Chandler Can't Cry (2).ru.txt\n",
      "C:\\Users\\Masha\\Documents\\Infosearch\\Friends\\Friends - season 6\\Friends - 6x15 - The One That Could Have Been (1).ru.txt\n",
      "C:\\Users\\Masha\\Documents\\Infosearch\\Friends\\Friends - season 6\\Friends - 6x16-17 - The One That Could Have Been (2).ru.txt\n",
      "C:\\Users\\Masha\\Documents\\Infosearch\\Friends\\Friends - season 6\\Friends - 6x17 - The One With Unagi.ru.txt\n",
      "C:\\Users\\Masha\\Documents\\Infosearch\\Friends\\Friends - season 6\\Friends - 6x18 - The One Where Ross Dates A Student.ru.txt\n",
      "C:\\Users\\Masha\\Documents\\Infosearch\\Friends\\Friends - season 6\\Friends - 6x19 - The One With Joey's Fridge.ru.txt\n",
      "C:\\Users\\Masha\\Documents\\Infosearch\\Friends\\Friends - season 6\\Friends - 6x20 - The One With Mac And C.H.E.E.S.E..ru.txt\n",
      "C:\\Users\\Masha\\Documents\\Infosearch\\Friends\\Friends - season 6\\Friends - 6x21 - The One Where Ross Meets Elizabeth's Dad.ru.txt\n",
      "C:\\Users\\Masha\\Documents\\Infosearch\\Friends\\Friends - season 6\\Friends - 6x22 - The One Where Paul's The Man.ru.txt\n"
     ]
    },
    {
     "name": "stdout",
     "output_type": "stream",
     "text": [
      "C:\\Users\\Masha\\Documents\\Infosearch\\Friends\\Friends - season 6\\Friends - 6x23 - The One With The Ring.ru.txt\n",
      "C:\\Users\\Masha\\Documents\\Infosearch\\Friends\\Friends - season 6\\Friends - 6x24 - The One With The Proposal (1).ru.txt\n",
      "C:\\Users\\Masha\\Documents\\Infosearch\\Friends\\Friends - season 6\\Friends - 6x25-26 - The One With The Proposal (2).ru.txt\n",
      "C:\\Users\\Masha\\Documents\\Infosearch\\Friends\\Friends - season 7\\Friends - 7x01 - The One With Monica's Thunder.ru.txt\n",
      "C:\\Users\\Masha\\Documents\\Infosearch\\Friends\\Friends - season 7\\Friends - 7x02 - The One With Rachel's Book.ru.txt\n",
      "C:\\Users\\Masha\\Documents\\Infosearch\\Friends\\Friends - season 7\\Friends - 7x03 - The One With Phoebe's Cookies.ru.txt\n",
      "C:\\Users\\Masha\\Documents\\Infosearch\\Friends\\Friends - season 7\\Friends - 7x04 - The One With Rachel's Assistant.ru.txt\n",
      "C:\\Users\\Masha\\Documents\\Infosearch\\Friends\\Friends - season 7\\Friends - 7x05 - The One With The Engagement Picture.ru.txt\n",
      "C:\\Users\\Masha\\Documents\\Infosearch\\Friends\\Friends - season 7\\Friends - 7x06 - The One With The Nap Partners.ru.txt\n",
      "C:\\Users\\Masha\\Documents\\Infosearch\\Friends\\Friends - season 7\\Friends - 7x07 - The One With Ross's Library Book.ru.txt\n",
      "C:\\Users\\Masha\\Documents\\Infosearch\\Friends\\Friends - season 7\\Friends - 7x08 - The One Where Chandler Doesn't Like Dogs.ru.txt\n",
      "C:\\Users\\Masha\\Documents\\Infosearch\\Friends\\Friends - season 7\\Friends - 7x09 - The One With All The Candy.ru.txt\n",
      "C:\\Users\\Masha\\Documents\\Infosearch\\Friends\\Friends - season 7\\Friends - 7x10 - The One With The Holiday Armadillo.ru.txt\n",
      "C:\\Users\\Masha\\Documents\\Infosearch\\Friends\\Friends - season 7\\Friends - 7x11 - The One With All The Cheesecakes.ru.txt\n",
      "C:\\Users\\Masha\\Documents\\Infosearch\\Friends\\Friends - season 7\\Friends - 7x12 - The One Where They're Up All Night.ru.txt\n",
      "C:\\Users\\Masha\\Documents\\Infosearch\\Friends\\Friends - season 7\\Friends - 7x13 - The One Where Rosita Dies.ru.txt\n",
      "C:\\Users\\Masha\\Documents\\Infosearch\\Friends\\Friends - season 7\\Friends - 7x14 - The One Where They All Turn Thirty.ru.txt\n",
      "C:\\Users\\Masha\\Documents\\Infosearch\\Friends\\Friends - season 7\\Friends - 7x15 - The One With Joey's New Brain.ru.txt\n",
      "C:\\Users\\Masha\\Documents\\Infosearch\\Friends\\Friends - season 7\\Friends - 7x16 - The One With The Truth About London.ru.txt\n",
      "C:\\Users\\Masha\\Documents\\Infosearch\\Friends\\Friends - season 7\\Friends - 7x17 - The One With The Cheap Wedding Dress.ru.txt\n",
      "C:\\Users\\Masha\\Documents\\Infosearch\\Friends\\Friends - season 7\\Friends - 7x18 - The One With Joey's Award.ru.txt\n",
      "C:\\Users\\Masha\\Documents\\Infosearch\\Friends\\Friends - season 7\\Friends - 7x19 - The One With Ross And Monica's Cousin.ru.txt\n",
      "C:\\Users\\Masha\\Documents\\Infosearch\\Friends\\Friends - season 7\\Friends - 7x20 - The One With Rachel's Big Kiss.ru.txt\n",
      "C:\\Users\\Masha\\Documents\\Infosearch\\Friends\\Friends - season 7\\Friends - 7x21 - The One With The Vows.ru.txt\n",
      "C:\\Users\\Masha\\Documents\\Infosearch\\Friends\\Friends - season 7\\Friends - 7x22 - The One With Chandler's Dad.ru.txt\n",
      "C:\\Users\\Masha\\Documents\\Infosearch\\Friends\\Friends - season 7\\Friends - 7x23 - The One With Chandler And Monica's Wedding (1).ru.txt\n",
      "C:\\Users\\Masha\\Documents\\Infosearch\\Friends\\Friends - season 7\\Friends - 7x24-25 - The One With Chandler And Monica's Wedding (2).ru.txt\n"
     ]
    }
   ],
   "source": [
    "main_dir = r'C:\\Users\\Masha\\Documents\\Infosearch'\n",
    "\n",
    "for root, dirs, files in os.walk(main_dir):\n",
    "    for name in files:\n",
    "        print(os.path.join(root, name))"
   ]
  },
  {
   "cell_type": "markdown",
   "metadata": {},
   "source": [
    "> __os.walk__ возвращает генератор, это значит, что получить его элементы можно только проитерировавшись по нему  \n",
    "но его легко можно превратить в list и увидеть все его значения"
   ]
  },
  {
   "cell_type": "code",
   "execution_count": 128,
   "metadata": {},
   "outputs": [
    {
     "data": {
      "text/plain": [
       "[('C:\\\\Users\\\\Masha\\\\Documents\\\\Infosearch',\n",
       "  ['Friends'],\n",
       "  ['sem1_Индекс.ipynb']),\n",
       " ('C:\\\\Users\\\\Masha\\\\Documents\\\\Infosearch\\\\Friends',\n",
       "  ['Friends - season 1',\n",
       "   'Friends - season 2',\n",
       "   'Friends - season 3',\n",
       "   'Friends - season 4',\n",
       "   'Friends - season 5',\n",
       "   'Friends - season 6',\n",
       "   'Friends - season 7'],\n",
       "  []),\n",
       " ('C:\\\\Users\\\\Masha\\\\Documents\\\\Infosearch\\\\Friends\\\\Friends - season 1',\n",
       "  [],\n",
       "  ['Friends - 1x01 - The One Where Monica Gets A Roommate.ru.txt',\n",
       "   'Friends - 1x02 - The One With The Sonogram At The End.ru.txt',\n",
       "   'Friends - 1x03 - The One With The Thumb.ru.txt',\n",
       "   'Friends - 1x04 - The One With George Stephanopoulos.ru.txt',\n",
       "   'Friends - 1x05 - The One With The East German Laundry Detergent.ru.txt',\n",
       "   'Friends - 1x06 - The One With The Butt.ru.txt',\n",
       "   'Friends - 1x07 - The One With The Blackout.ru.txt',\n",
       "   'Friends - 1x08 - The One Where Nana Dies Twice.ru.txt',\n",
       "   'Friends - 1x09 - The One Where Underdog Gets Away.ru.txt',\n",
       "   'Friends - 1x10 - The One With The Monkey.ru.txt',\n",
       "   'Friends - 1x11 - The One With Mrs. Bing.ru.txt',\n",
       "   'Friends - 1x12 - The One With The Dozen Lasagnas.ru.txt',\n",
       "   'Friends - 1x13 - The One With The Boobies.ru.txt',\n",
       "   'Friends - 1x14 - The One With The Candy Hearts.ru.txt',\n",
       "   'Friends - 1x15 - The One With The Stoned Guy.ru.txt',\n",
       "   'Friends - 1x16 - The One With Two Parts (1).ru.txt',\n",
       "   'Friends - 1x17 - The One With Two Parts (2).ru.txt',\n",
       "   'Friends - 1x18 - The One With All The Poker.ru.txt',\n",
       "   'Friends - 1x19 - The One Where The Monkey Gets Away.ru.txt',\n",
       "   'Friends - 1x20 - The One With The Evil Orthodontist.ru.txt']),\n",
       " ('C:\\\\Users\\\\Masha\\\\Documents\\\\Infosearch\\\\Friends\\\\Friends - season 2',\n",
       "  [],\n",
       "  [\"Friends - 2x01 - The One With Ross's New Girlfriend.DVDRip.ru.txt\",\n",
       "   \"Friends - 2x01 - The One With Ross's New Girlfriend.ru.txt\",\n",
       "   'Friends - 2x02 - The One With The Breast Milk.ru.txt',\n",
       "   'Friends - 2x03 - The One Where Heckles Dies.ru.txt',\n",
       "   \"Friends - 2x04 - The One With Phoebe's Husband.ru.txt\",\n",
       "   'Friends - 2x05 - The One With Five Steaks And An Eggplant.ru.txt',\n",
       "   'Friends - 2x06 - The One With The Baby On The Bus.ru.txt',\n",
       "   'Friends - 2x07 - The One Where Ross Finds Out.ru.txt',\n",
       "   'Friends - 2x08 - The One With The List.ru.txt',\n",
       "   \"Friends - 2x09 - The One With Phoebe's Dad.ru.txt\",\n",
       "   'Friends - 2x10 - The One With Russ.ru.txt',\n",
       "   'Friends - 2x11 - The One With The Lesbian Wedding.ru.txt',\n",
       "   'Friends - 2x12 - The One After The Super Bowl (1).ru.txt',\n",
       "   'Friends - 2x13 - The One After The Super Bowl (2).ru.txt',\n",
       "   'Friends - 2x14 - The One With The Prom Video.ru.txt',\n",
       "   'Friends - 2x15 - The One Where Ross And Rachel...You Know.ru.txt',\n",
       "   'Friends - 2x16 - The One Where Joey Moves Out.ru.txt',\n",
       "   'Friends - 2x17 - The One Where Eddie Moves In.ru.txt',\n",
       "   'Friends - 2x18 - The One Where Dr. Ramoray Dies.ru.txt',\n",
       "   \"Friends - 2x19 - The One Where Eddie Won't Go.ru.txt\",\n",
       "   'Friends - 2x20 - The One Where Old Yeller Dies.NurlanB.ru.txt',\n",
       "   'Friends - 2x21 - The One With The Bullies.ru.txt',\n",
       "   'Friends - 2x22 - The One With The Two Parties.ru.txt',\n",
       "   'Friends - 2x23 - The One With The Chicken Pox.ru.txt',\n",
       "   \"Friends - 2x24 - The One With Barry And Mindy's Wedding.ru.txt\"]),\n",
       " ('C:\\\\Users\\\\Masha\\\\Documents\\\\Infosearch\\\\Friends\\\\Friends - season 3',\n",
       "  [],\n",
       "  ['Friends - 3x01 - The One With The Princess Leia Fantasy.ru.txt',\n",
       "   \"Friends - 3x02 - The One Where No One's Ready.ru.txt\",\n",
       "   'Friends - 3x03 - The One With The Jam.ru.txt',\n",
       "   'Friends - 3x04 - The One With The Metaphorical Tunnel.ru.txt',\n",
       "   'Friends - 3x05 - The One With Frank Jr..ru.txt',\n",
       "   'Friends - 3x06 - The One With The Flashback.ru.txt',\n",
       "   'Friends - 3x07 - The One With The Race Car Bed.ru.txt',\n",
       "   'Friends - 3x08 - The One With The Giant Poking Device.ru.txt',\n",
       "   'Friends - 3x09 - The One With The Football.ru.txt',\n",
       "   'Friends - 3x10 - The One Where Rachel Quits.ru.txt',\n",
       "   \"Friends - 3x11 - The One Where Chandler Can't Remember Which Sister.ru.txt\",\n",
       "   'Friends - 3x12 - The One With All The Jealousy.ru.txt',\n",
       "   'Friends - 3x13 - The One Where Monica And Richard Are Just Friends.ru.txt',\n",
       "   \"Friends - 3x14 - The One With Phoebe's Ex-Partner.ru.txt\",\n",
       "   'Friends - 3x15 - The One Where Ross And Rachel Take A Break (1).ru.txt',\n",
       "   'Friends - 3x16 - The One With The Morning After (2).ru.txt',\n",
       "   'Friends - 3x17 - The One Without The Ski Trip.ru.txt',\n",
       "   'Friends - 3x18 - The One With The Hypnosis Tape.ru.txt',\n",
       "   'Friends - 3x19 - The One With The Tiny T-Shirt.ru.txt',\n",
       "   'Friends - 3x20 - The One With The Dollhouse.ru.txt',\n",
       "   'Friends - 3x21 - The One With A Chick And A Duck.ru.txt']),\n",
       " ('C:\\\\Users\\\\Masha\\\\Documents\\\\Infosearch\\\\Friends\\\\Friends - season 4',\n",
       "  [],\n",
       "  ['Friends - 4x01 - The One With The Jellyfish.ru.txt',\n",
       "   'Friends - 4x01 - The One With The Jellyfish.Tv.ru.txt',\n",
       "   'Friends - 4x02 - The One With The Cat.ru.txt',\n",
       "   'Friends - 4x02 - The One With The Cat.Tv.ru.txt',\n",
       "   \"Friends - 4x03 - The One With The 'Cuffs.ru.txt\",\n",
       "   'Friends - 4x04 - The One With The Ballroom Dancing.ru.txt',\n",
       "   \"Friends - 4x05 - The One With Joey's New Girlfriend.ru.txt\",\n",
       "   'Friends - 4x06 - The One With The Dirty Girl.ru.txt',\n",
       "   'Friends - 4x07 - The One Where Chandler Crosses The Line.ru.txt',\n",
       "   'Friends - 4x08 - The One With Chandler In A Box.ru.txt',\n",
       "   \"Friends - 4x09 - The One Where They're Going To Party!.ru.txt\",\n",
       "   'Friends - 4x10 - The One With The Girl From Poughkeepsie.ru.txt',\n",
       "   \"Friends - 4x11 - The One With Phoebe's Uterus.ru.txt\",\n",
       "   'Friends - 4x12 - The One With The Embryos.ru.txt',\n",
       "   \"Friends - 4x13 - The One With Rachel's Crush.ru.txt\",\n",
       "   \"Friends - 4x14 - The One With Joey's Dirty Day.ru.txt\",\n",
       "   'Friends - 4x15 - The One With All The Rugby.ru.txt',\n",
       "   'Friends - 4x16 - The One With The Fake Party.ru.txt',\n",
       "   'Friends - 4x17 - The One With The Free Porn.ru.txt',\n",
       "   \"Friends - 4x18 - The One With Rachel's New Dress.ru.txt\",\n",
       "   'Friends - 4x19 - The One With All The Haste.ru.txt',\n",
       "   'Friends - 4x20 - The One With The Wedding Dresses.ru.txt',\n",
       "   'Friends - 4x21 - The One With The Invitations.ru.txt',\n",
       "   'Friends - 4x22 - The One With The Worst Best Man Ever.ru.txt',\n",
       "   \"Friends - 4x23-24 - The One With Ross's Wedding (1).ru.txt\",\n",
       "   \"Friends - 4x24-25 - The One With Ross's Wedding (2).ru.txt\"]),\n",
       " ('C:\\\\Users\\\\Masha\\\\Documents\\\\Infosearch\\\\Friends\\\\Friends - season 5',\n",
       "  [],\n",
       "  ['Friends - 5x01 - The One After Ross Says Rachel.ru.txt',\n",
       "   'Friends - 5x02 - The One With All The Kissing.ru.txt',\n",
       "   'Friends - 5x03 - The One Hundredth.ru.txt',\n",
       "   'Friends - 5x04 - The One Where Phoebe Hates PBS.ru.txt',\n",
       "   'Friends - 5x05 - The One With The Kips.ru.txt',\n",
       "   'Friends - 5x06 - The One With The Yeti.ru.txt',\n",
       "   'Friends - 5x07 - The One Where Ross Moves In.ru.txt',\n",
       "   'Friends - 5x08 - The One With The Thanksgiving Flashbacks.ru.txt',\n",
       "   \"Friends - 5x09 - The One With Ross's Sandwich.ru.txt\",\n",
       "   'Friends - 5x10 - The One With The Inappropriate Sister.ru.txt',\n",
       "   'Friends - 5x11 - The One With All The Resolutions.ru.txt',\n",
       "   \"Friends - 5x12 - The One With Chandler's Work Laugh.ru.txt\",\n",
       "   \"Friends - 5x13 - The One With Joey's Bag.ru.txt\",\n",
       "   'Friends - 5x14 - The One Where Everybody Finds Out.ru.txt',\n",
       "   'Friends - 5x15 - The One With The Girl Who Hits Joey.ru.txt',\n",
       "   'Friends - 5x16 - The One With The Cop.ru.txt',\n",
       "   \"Friends - 5x17 - The One With Rachel's Inadvertent Kiss.ru.txt\",\n",
       "   'Friends - 5x18 - The One Where Rachel Smokes.ru.txt',\n",
       "   \"Friends - 5x19 - The One Where Ross Can't Flirt.ru.txt\",\n",
       "   'Friends - 5x20 - The One With The Ride Along.ru.txt',\n",
       "   'Friends - 5x21 - The One With The Ball.ru.txt',\n",
       "   \"Friends - 5x22 - The One With Joey's Big Break.ru.txt\",\n",
       "   'Friends - 5x23-24 - The One In Vegas (1).ru.txt',\n",
       "   'Friends - 5x24-25 - The One In Vegas (2).ru.txt']),\n",
       " ('C:\\\\Users\\\\Masha\\\\Documents\\\\Infosearch\\\\Friends\\\\Friends - season 6',\n",
       "  [],\n",
       "  ['Friends - 6x01 - The One After Vegas.ru.txt',\n",
       "   'Friends - 6x02 - The One Where Ross Hugs Rachel.ru.txt',\n",
       "   \"Friends - 6x03 - The One With Ross's Denial.ru.txt\",\n",
       "   'Friends - 6x04 - The One Where Joey Loses His Insurance.ru.txt',\n",
       "   \"Friends - 6x05 - The One With Joey's Porsche.ru.txt\",\n",
       "   'Friends - 6x06 - The One On The Last Night.ru.txt',\n",
       "   'Friends - 6x07 - The One Where Phoebe Runs.ru.txt',\n",
       "   \"Friends - 6x08 - The One With Ross's Teeth.ru.txt\",\n",
       "   'Friends - 6x09 - The One Where Ross Got High.ru.txt',\n",
       "   'Friends - 6x10 - The One With The Routine.ru.txt',\n",
       "   'Friends - 6x11 - The One With The Apothecary Table.ru.txt',\n",
       "   'Friends - 6x12 - The One With The Joke.ru.txt',\n",
       "   \"Friends - 6x13 - The One With Rachel's Sister (1).ru.txt\",\n",
       "   \"Friends - 6x14 - The One Where Chandler Can't Cry (2).ru.txt\",\n",
       "   'Friends - 6x15 - The One That Could Have Been (1).ru.txt',\n",
       "   'Friends - 6x16-17 - The One That Could Have Been (2).ru.txt',\n",
       "   'Friends - 6x17 - The One With Unagi.ru.txt',\n",
       "   'Friends - 6x18 - The One Where Ross Dates A Student.ru.txt',\n",
       "   \"Friends - 6x19 - The One With Joey's Fridge.ru.txt\",\n",
       "   'Friends - 6x20 - The One With Mac And C.H.E.E.S.E..ru.txt',\n",
       "   \"Friends - 6x21 - The One Where Ross Meets Elizabeth's Dad.ru.txt\",\n",
       "   \"Friends - 6x22 - The One Where Paul's The Man.ru.txt\",\n",
       "   'Friends - 6x23 - The One With The Ring.ru.txt',\n",
       "   'Friends - 6x24 - The One With The Proposal (1).ru.txt',\n",
       "   'Friends - 6x25-26 - The One With The Proposal (2).ru.txt']),\n",
       " ('C:\\\\Users\\\\Masha\\\\Documents\\\\Infosearch\\\\Friends\\\\Friends - season 7',\n",
       "  [],\n",
       "  [\"Friends - 7x01 - The One With Monica's Thunder.ru.txt\",\n",
       "   \"Friends - 7x02 - The One With Rachel's Book.ru.txt\",\n",
       "   \"Friends - 7x03 - The One With Phoebe's Cookies.ru.txt\",\n",
       "   \"Friends - 7x04 - The One With Rachel's Assistant.ru.txt\",\n",
       "   'Friends - 7x05 - The One With The Engagement Picture.ru.txt',\n",
       "   'Friends - 7x06 - The One With The Nap Partners.ru.txt',\n",
       "   \"Friends - 7x07 - The One With Ross's Library Book.ru.txt\",\n",
       "   \"Friends - 7x08 - The One Where Chandler Doesn't Like Dogs.ru.txt\",\n",
       "   'Friends - 7x09 - The One With All The Candy.ru.txt',\n",
       "   'Friends - 7x10 - The One With The Holiday Armadillo.ru.txt',\n",
       "   'Friends - 7x11 - The One With All The Cheesecakes.ru.txt',\n",
       "   \"Friends - 7x12 - The One Where They're Up All Night.ru.txt\",\n",
       "   'Friends - 7x13 - The One Where Rosita Dies.ru.txt',\n",
       "   'Friends - 7x14 - The One Where They All Turn Thirty.ru.txt',\n",
       "   \"Friends - 7x15 - The One With Joey's New Brain.ru.txt\",\n",
       "   'Friends - 7x16 - The One With The Truth About London.ru.txt',\n",
       "   'Friends - 7x17 - The One With The Cheap Wedding Dress.ru.txt',\n",
       "   \"Friends - 7x18 - The One With Joey's Award.ru.txt\",\n",
       "   \"Friends - 7x19 - The One With Ross And Monica's Cousin.ru.txt\",\n",
       "   \"Friends - 7x20 - The One With Rachel's Big Kiss.ru.txt\",\n",
       "   'Friends - 7x21 - The One With The Vows.ru.txt',\n",
       "   \"Friends - 7x22 - The One With Chandler's Dad.ru.txt\",\n",
       "   \"Friends - 7x23 - The One With Chandler And Monica's Wedding (1).ru.txt\",\n",
       "   \"Friends - 7x24-25 - The One With Chandler And Monica's Wedding (2).ru.txt\"])]"
      ]
     },
     "execution_count": 128,
     "metadata": {},
     "output_type": "execute_result"
    }
   ],
   "source": [
    "list(os.walk(main_dir))"
   ]
  },
  {
   "cell_type": "markdown",
   "metadata": {},
   "source": [
    "  "
   ]
  },
  {
   "cell_type": "markdown",
   "metadata": {},
   "source": [
    "##  Обратный индекс \n",
    "\n",
    "Сам по себе обратный индекс не может осуществлять поиск, для этого необходимо добавить к нему определенную метрику. Это не совсем очевидная задача, поэтому немного отложим ее. А сейчас посмотрим, что полезного можно вытащить из индекса.    \n",
    "По сути, индекс - это информация о частоте встречаемости слова в каждом документе.   \n",
    "Из этого можно понять, например:\n",
    "1. какое слово является самым часто употребимым / редким\n",
    "2. какие слова встречаются всегда вместе. Так можно парсить твиттер, fb, форумы и отлавливать новые устойчивые выражения в речи\n",
    "3. какой документ является самым большим / маленьким (очень изощренный способ, когда есть _len_)"
   ]
  },
  {
   "cell_type": "markdown",
   "metadata": {},
   "source": [
    "### __Задача__: \n",
    "получите обратный индекс для коллекция документов.    \n",
    "Перед этим постройте матрицу терм-документ и сделайте функцию булева поиска, которая по запросу будет возвращать 5 релевантных документов.   \n",
    "В качестве коллекции возьмите сценарий сезонов сериала Друзья. Одна серия - один документ.\n",
    "\n",
    "[download_friends_corpus](https://yadi.sk/d/k_M7n63A3adGSz)"
   ]
  },
  {
   "cell_type": "markdown",
   "metadata": {},
   "source": [
    "Этапы:   \n",
    "    1. получить коллекцию документов\n",
    "    2. для каждого файла коллекции сделать необходимую на ваш взгляд предобработку\n",
    "    3. получить матрицу терм-документ, написать функцию поиска по ней\n",
    "    4. получить обратный индекс в виде словаря, где ключ - нормализованное слово, \n",
    "    значение - список файлов, в которых это слово встречается\n",
    "    5. вывести кусочек индекса в виде таблицы \n",
    "    6. сделать анализ обратного индекса. Это задание принимается в виде кода и ответов на вопросы"
   ]
  },
  {
   "cell_type": "markdown",
   "metadata": {},
   "source": [
    "![](Friends/wedding.png)"
   ]
  },
  {
   "cell_type": "markdown",
   "metadata": {},
   "source": [
    "Напоминание:    \n",
    "> При итерации по списку вы можете помимо самого элемента получить его порядковый номер    \n",
    "``` for i, element in enumerate(your_list): ...  ```    \n",
    "Иногда для получения элемента делают так -  ``` your_list[i] ```, старайтесь этого избегать"
   ]
  },
  {
   "cell_type": "code",
   "execution_count": 2,
   "metadata": {
    "collapsed": true
   },
   "outputs": [],
   "source": [
    "### пройдитесь по всем папкам коллекции и соберите все пути .txt файлов\n",
    "\n",
    "main_dir = r'C:\\Users\\Masha\\Documents\\Инфопоиск\\Friends'\n",
    "files_list = []\n",
    "\n",
    "for root, dirs, files in os.walk(main_dir):\n",
    "    for d in dirs:\n",
    "        for root, dirs, files in os.walk(main_dir + os.sep + d):\n",
    "            for name in files:\n",
    "                files_list.append(main_dir + os.sep + d + os.sep + name)"
   ]
  },
  {
   "cell_type": "code",
   "execution_count": 5,
   "metadata": {},
   "outputs": [
    {
     "data": {
      "text/plain": [
       "165"
      ]
     },
     "execution_count": 5,
     "metadata": {},
     "output_type": "execute_result"
    }
   ],
   "source": [
    "### _check : в коллекции должно быть 165 файлов\n",
    "len(files_list)"
   ]
  },
  {
   "cell_type": "code",
   "execution_count": 6,
   "metadata": {
    "collapsed": true
   },
   "outputs": [],
   "source": [
    "import pandas as pd\n",
    "from sklearn.feature_extraction.text import CountVectorizer\n",
    "import re\n",
    "import pymorphy2\n",
    "import tqdm"
   ]
  },
  {
   "cell_type": "markdown",
   "metadata": {},
   "source": [
    "##### Считываем все сценарии"
   ]
  },
  {
   "cell_type": "code",
   "execution_count": 7,
   "metadata": {
    "collapsed": true
   },
   "outputs": [],
   "source": [
    "docs = list()\n",
    "for path in files_list:\n",
    "    with open(path, 'r', encoding='utf-8') as f:\n",
    "        docs.append(f.read())"
   ]
  },
  {
   "cell_type": "markdown",
   "metadata": {},
   "source": [
    "##### Чистим тексты"
   ]
  },
  {
   "cell_type": "code",
   "execution_count": 8,
   "metadata": {
    "collapsed": true
   },
   "outputs": [],
   "source": [
    "def cleaner(doc):\n",
    "    doc = re.sub('\\n', ' ', doc)\n",
    "    doc = re.sub('  ', ' ', doc)\n",
    "    doc = re.sub('[0-9]*', '', doc)\n",
    "    return doc"
   ]
  },
  {
   "cell_type": "code",
   "execution_count": 9,
   "metadata": {
    "collapsed": true
   },
   "outputs": [],
   "source": [
    "clean_docs = list()\n",
    "for doc in docs:\n",
    "    clean_docs.append(cleaner(doc))"
   ]
  },
  {
   "cell_type": "markdown",
   "metadata": {},
   "source": [
    "##### Приводим все слова к нормальной форме"
   ]
  },
  {
   "cell_type": "code",
   "execution_count": 10,
   "metadata": {
    "collapsed": true
   },
   "outputs": [],
   "source": [
    "morph = pymorphy2.MorphAnalyzer()"
   ]
  },
  {
   "cell_type": "code",
   "execution_count": 11,
   "metadata": {},
   "outputs": [
    {
     "name": "stderr",
     "output_type": "stream",
     "text": [
      "100%|████████████████████████████████████████| 165/165 [05:25<00:00,  1.97s/it]\n"
     ]
    }
   ],
   "source": [
    "words_docs = list()\n",
    "\n",
    "for doc in tqdm.tqdm(clean_docs):    \n",
    "    words = list()\n",
    "    for word in doc.split():\n",
    "        words.append(morph.parse(word.strip(',.?!-\"–'))[0].normal_form)\n",
    "    words_docs.append(words)"
   ]
  },
  {
   "cell_type": "code",
   "execution_count": 12,
   "metadata": {
    "collapsed": true
   },
   "outputs": [],
   "source": [
    "joint_docs = list()\n",
    "for doc in words_docs:\n",
    "    joint_docs.append(' '.join(doc))"
   ]
  },
  {
   "cell_type": "code",
   "execution_count": 13,
   "metadata": {
    "collapsed": true
   },
   "outputs": [],
   "source": [
    "### постройте матрицу терм-документ\n",
    "vec = CountVectorizer()\n",
    "X = vec.fit_transform(docs)\n",
    "df = pd.DataFrame(X.toarray(), columns=vec.get_feature_names())"
   ]
  },
  {
   "cell_type": "code",
   "execution_count": 129,
   "metadata": {},
   "outputs": [
    {
     "data": {
      "text/html": [
       "<div>\n",
       "<style>\n",
       "    .dataframe thead tr:only-child th {\n",
       "        text-align: right;\n",
       "    }\n",
       "\n",
       "    .dataframe thead th {\n",
       "        text-align: left;\n",
       "    }\n",
       "\n",
       "    .dataframe tbody tr th {\n",
       "        vertical-align: top;\n",
       "    }\n",
       "</style>\n",
       "<table border=\"1\" class=\"dataframe\">\n",
       "  <thead>\n",
       "    <tr style=\"text-align: right;\">\n",
       "      <th></th>\n",
       "      <th>00</th>\n",
       "      <th>000</th>\n",
       "      <th>007</th>\n",
       "      <th>009</th>\n",
       "      <th>02</th>\n",
       "      <th>038</th>\n",
       "      <th>03815</th>\n",
       "      <th>0fps</th>\n",
       "      <th>10</th>\n",
       "      <th>100</th>\n",
       "      <th>...</th>\n",
       "      <th>ёкнуло</th>\n",
       "      <th>ёлками</th>\n",
       "      <th>ёлке</th>\n",
       "      <th>ёлки</th>\n",
       "      <th>ёлку</th>\n",
       "      <th>ёлочных</th>\n",
       "      <th>ёпэрэсотэ</th>\n",
       "      <th>ёрл</th>\n",
       "      <th>ёрш</th>\n",
       "      <th>ёще</th>\n",
       "    </tr>\n",
       "  </thead>\n",
       "  <tbody>\n",
       "    <tr>\n",
       "      <th>0</th>\n",
       "      <td>5</td>\n",
       "      <td>0</td>\n",
       "      <td>0</td>\n",
       "      <td>0</td>\n",
       "      <td>0</td>\n",
       "      <td>0</td>\n",
       "      <td>0</td>\n",
       "      <td>0</td>\n",
       "      <td>0</td>\n",
       "      <td>0</td>\n",
       "      <td>...</td>\n",
       "      <td>0</td>\n",
       "      <td>0</td>\n",
       "      <td>0</td>\n",
       "      <td>0</td>\n",
       "      <td>0</td>\n",
       "      <td>0</td>\n",
       "      <td>0</td>\n",
       "      <td>0</td>\n",
       "      <td>0</td>\n",
       "      <td>0</td>\n",
       "    </tr>\n",
       "    <tr>\n",
       "      <th>1</th>\n",
       "      <td>5</td>\n",
       "      <td>0</td>\n",
       "      <td>0</td>\n",
       "      <td>0</td>\n",
       "      <td>0</td>\n",
       "      <td>0</td>\n",
       "      <td>0</td>\n",
       "      <td>0</td>\n",
       "      <td>0</td>\n",
       "      <td>0</td>\n",
       "      <td>...</td>\n",
       "      <td>0</td>\n",
       "      <td>0</td>\n",
       "      <td>0</td>\n",
       "      <td>0</td>\n",
       "      <td>0</td>\n",
       "      <td>0</td>\n",
       "      <td>0</td>\n",
       "      <td>0</td>\n",
       "      <td>0</td>\n",
       "      <td>0</td>\n",
       "    </tr>\n",
       "    <tr>\n",
       "      <th>2</th>\n",
       "      <td>5</td>\n",
       "      <td>0</td>\n",
       "      <td>0</td>\n",
       "      <td>0</td>\n",
       "      <td>0</td>\n",
       "      <td>0</td>\n",
       "      <td>0</td>\n",
       "      <td>0</td>\n",
       "      <td>0</td>\n",
       "      <td>0</td>\n",
       "      <td>...</td>\n",
       "      <td>0</td>\n",
       "      <td>0</td>\n",
       "      <td>0</td>\n",
       "      <td>0</td>\n",
       "      <td>0</td>\n",
       "      <td>0</td>\n",
       "      <td>0</td>\n",
       "      <td>0</td>\n",
       "      <td>0</td>\n",
       "      <td>0</td>\n",
       "    </tr>\n",
       "    <tr>\n",
       "      <th>3</th>\n",
       "      <td>5</td>\n",
       "      <td>0</td>\n",
       "      <td>0</td>\n",
       "      <td>0</td>\n",
       "      <td>0</td>\n",
       "      <td>0</td>\n",
       "      <td>0</td>\n",
       "      <td>0</td>\n",
       "      <td>0</td>\n",
       "      <td>0</td>\n",
       "      <td>...</td>\n",
       "      <td>0</td>\n",
       "      <td>0</td>\n",
       "      <td>0</td>\n",
       "      <td>0</td>\n",
       "      <td>0</td>\n",
       "      <td>0</td>\n",
       "      <td>0</td>\n",
       "      <td>0</td>\n",
       "      <td>0</td>\n",
       "      <td>0</td>\n",
       "    </tr>\n",
       "    <tr>\n",
       "      <th>4</th>\n",
       "      <td>5</td>\n",
       "      <td>0</td>\n",
       "      <td>0</td>\n",
       "      <td>0</td>\n",
       "      <td>0</td>\n",
       "      <td>0</td>\n",
       "      <td>0</td>\n",
       "      <td>0</td>\n",
       "      <td>0</td>\n",
       "      <td>0</td>\n",
       "      <td>...</td>\n",
       "      <td>0</td>\n",
       "      <td>0</td>\n",
       "      <td>0</td>\n",
       "      <td>0</td>\n",
       "      <td>0</td>\n",
       "      <td>0</td>\n",
       "      <td>0</td>\n",
       "      <td>0</td>\n",
       "      <td>0</td>\n",
       "      <td>0</td>\n",
       "    </tr>\n",
       "  </tbody>\n",
       "</table>\n",
       "<p>5 rows × 30911 columns</p>\n",
       "</div>"
      ],
      "text/plain": [
       "   00  000  007  009  02  038  03815  0fps  10  100 ...   ёкнуло  ёлками  \\\n",
       "0   5    0    0    0   0    0      0     0   0    0 ...        0       0   \n",
       "1   5    0    0    0   0    0      0     0   0    0 ...        0       0   \n",
       "2   5    0    0    0   0    0      0     0   0    0 ...        0       0   \n",
       "3   5    0    0    0   0    0      0     0   0    0 ...        0       0   \n",
       "4   5    0    0    0   0    0      0     0   0    0 ...        0       0   \n",
       "\n",
       "   ёлке  ёлки  ёлку  ёлочных  ёпэрэсотэ  ёрл  ёрш  ёще  \n",
       "0     0     0     0        0          0    0    0    0  \n",
       "1     0     0     0        0          0    0    0    0  \n",
       "2     0     0     0        0          0    0    0    0  \n",
       "3     0     0     0        0          0    0    0    0  \n",
       "4     0     0     0        0          0    0    0    0  \n",
       "\n",
       "[5 rows x 30911 columns]"
      ]
     },
     "execution_count": 129,
     "metadata": {},
     "output_type": "execute_result"
    }
   ],
   "source": [
    "df.head()"
   ]
  },
  {
   "cell_type": "markdown",
   "metadata": {},
   "source": [
    "##### Алгоритм для парсинга выражений булева поиска"
   ]
  },
  {
   "cell_type": "code",
   "execution_count": 14,
   "metadata": {},
   "outputs": [],
   "source": [
    "def is_func(s):\n",
    "    return s == 'НЕ'\n",
    "    \n",
    "def is_operator(s):\n",
    "    if s in ['ИЛИ', '&']:\n",
    "        return True\n",
    "    else:\n",
    "        return False\n",
    "\n",
    "def infix_to_rpn(tokens):\n",
    "    \"\"\"\n",
    "    Transfer expression to reversed polish notation\n",
    "    :return: list, reversed expression\n",
    "    \"\"\"\n",
    "    stack = list()\n",
    "    queue = list()\n",
    "    \n",
    "    for t in tokens:\n",
    "        if t not in ['(', ')', 'ИЛИ', 'НЕ', '&']:\n",
    "            queue.append(t)\n",
    "        if is_func(t):\n",
    "            stack.append(t)\n",
    "        if is_operator(t):\n",
    "            while stack and (is_func(stack[-1]) or is_operator(stack[-1])) and stack[-1] != '(':\n",
    "                queue.append(stack.pop())\n",
    "            stack.append(t)\n",
    "        if t == '(':\n",
    "            stack.append(t)\n",
    "        if t == ')':\n",
    "            while stack[-1] != '(':\n",
    "                queue.append(stack.pop())\n",
    "            if stack[-1] == '(':\n",
    "                stack.pop()\n",
    "            else:\n",
    "                raise ValueError('Oh no! There is no left bracket!')\n",
    "        \n",
    "    while stack:\n",
    "        if stack[-1] in ['(', ')']:\n",
    "            raise ValueError('Oh no! Bracket should not be there!')\n",
    "        queue.append(stack.pop())\n",
    "    \n",
    "    return queue\n"
   ]
  },
  {
   "cell_type": "code",
   "execution_count": 15,
   "metadata": {
    "collapsed": true
   },
   "outputs": [],
   "source": [
    "def rpn_eval(tokens):\n",
    "    \"\"\"\n",
    "    Evaluate expression in reversed polish notation\n",
    "    :return: set, found relevant indexes\n",
    "    \"\"\"\n",
    "    sets = []\n",
    "    for i in tokens:\n",
    "        if isinstance(i, set):\n",
    "            sets.append(i)\n",
    "        elif i == 'НЕ':\n",
    "            try:\n",
    "                result = set(df.index) - sets.pop()\n",
    "                sets.append(result)\n",
    "            except:\n",
    "                raise IndexError('insufficient number of elements')\n",
    "                \n",
    "        else:\n",
    "            try:\n",
    "                s1 = sets.pop()\n",
    "                s2 = sets.pop()\n",
    "                if i == '&':\n",
    "                    result = s1 & s2\n",
    "                if i == 'ИЛИ':\n",
    "                    result = s1 | s2\n",
    "                sets.append(result)\n",
    "            except:\n",
    "                raise IndexError('insufficient number of elements')\n",
    "\n",
    "    return result\n"
   ]
  },
  {
   "cell_type": "code",
   "execution_count": 16,
   "metadata": {
    "collapsed": true
   },
   "outputs": [],
   "source": [
    "### напишите функцию булева поиска по построенной матрице\n",
    "\n",
    "def boolean_search(query) -> list:\n",
    "    \"\"\"\n",
    "    Produces a Boolean search according with the term-document matrix\n",
    "    :return: list of first 5 relevant documents\n",
    "    \"\"\"\n",
    "    query = query.split()\n",
    "    elements = list()\n",
    "    \n",
    "    for elem in query:\n",
    "        if elem[0] == '(':\n",
    "            elements += ['(', elem[1:]]\n",
    "        elif elem[-1] == ')':\n",
    "            elements += [elem[:-1], ')']\n",
    "        else:\n",
    "            elements.append(elem)\n",
    "    \n",
    "    elements = infix_to_rpn(elements)\n",
    "    for i, elem in enumerate(elements):\n",
    "        if elem not in ['(', ')', 'ИЛИ', 'НЕ', '&']:\n",
    "            elements[i] = set(df[elem.lower()][df[elem.lower()] > 0].index)\n",
    "    return list(rpn_eval(elements))[:5]\n",
    "\n",
    "#запросы \n",
    "input_text = [\n",
    "    'Моника & Фиби & Рэйчел & Чендлер & Джои & Росс',\n",
    "    '(Моника ИЛИ Фиби) & Рэйчел & (Чендлер ИЛИ Джои) & Росс', \n",
    "    '(НЕ Моника) & Фиби & Рэйчел & Чендлер & Джои & (НЕ Росс)'\n",
    "]"
   ]
  },
  {
   "cell_type": "markdown",
   "metadata": {},
   "source": [
    "##### Результаты запросов"
   ]
  },
  {
   "cell_type": "code",
   "execution_count": 130,
   "metadata": {},
   "outputs": [
    {
     "name": "stdout",
     "output_type": "stream",
     "text": [
      "Моника & Фиби & Рэйчел & Чендлер & Джои & Росс [0, 3, 6, 13, 53]\n",
      "(Моника ИЛИ Фиби) & Рэйчел & (Чендлер ИЛИ Джои) & Росс [0, 1, 3, 4, 6]\n",
      "(НЕ Моника) & Фиби & Рэйчел & Чендлер & Джои & (НЕ Росс) []\n"
     ]
    }
   ],
   "source": [
    "for t in input_text:\n",
    "    print(t, boolean_search(t))"
   ]
  },
  {
   "cell_type": "markdown",
   "metadata": {},
   "source": [
    "<img src=\"pics/inv_index3.svg\" alt=\"Drawing\" style=\"width: 600px;\"/>"
   ]
  },
  {
   "cell_type": "markdown",
   "metadata": {},
   "source": [
    "Совет для построения обратного индекса: \n",
    "> В качестве словаря используйте ``` defaultdict ``` из модуля collections   \n",
    "Так можно избежать конструкции ``` dict.setdefault(key, default=None) ```"
   ]
  },
  {
   "cell_type": "code",
   "execution_count": 18,
   "metadata": {
    "collapsed": true
   },
   "outputs": [],
   "source": [
    "from collections import defaultdict"
   ]
  },
  {
   "cell_type": "code",
   "execution_count": 19,
   "metadata": {
    "collapsed": true
   },
   "outputs": [],
   "source": [
    "all_episodes = list()\n",
    "for root, dirs, files in os.walk(main_dir):\n",
    "    all_episodes += files"
   ]
  },
  {
   "cell_type": "code",
   "execution_count": 42,
   "metadata": {
    "collapsed": true
   },
   "outputs": [],
   "source": [
    "def inverted_index() -> dict:\n",
    "    \"\"\"\n",
    "    Create inverted index by input doc collection\n",
    "    :return: inverted index\n",
    "    \"\"\"\n",
    "    index = defaultdict()\n",
    "    \n",
    "    for col in df:\n",
    "        index[col] = [all_episodes[i] for i in list(df[col][df[col] > 0].index)]\n",
    "    \n",
    "    return index"
   ]
  },
  {
   "cell_type": "code",
   "execution_count": 43,
   "metadata": {},
   "outputs": [],
   "source": [
    "index = inverted_index()"
   ]
  },
  {
   "cell_type": "code",
   "execution_count": 45,
   "metadata": {},
   "outputs": [],
   "source": [
    "max_len = len(sorted(index.values(), key=lambda x: len(x))[-1])\n",
    "for key in index:\n",
    "    index[key] += [None]*(max_len - len(index[key]))"
   ]
  },
  {
   "cell_type": "code",
   "execution_count": 87,
   "metadata": {},
   "outputs": [
    {
     "data": {
      "text/html": [
       "<div>\n",
       "<style>\n",
       "    .dataframe thead tr:only-child th {\n",
       "        text-align: right;\n",
       "    }\n",
       "\n",
       "    .dataframe thead th {\n",
       "        text-align: left;\n",
       "    }\n",
       "\n",
       "    .dataframe tbody tr th {\n",
       "        vertical-align: top;\n",
       "    }\n",
       "</style>\n",
       "<table border=\"1\" class=\"dataframe\">\n",
       "  <thead>\n",
       "    <tr style=\"text-align: right;\">\n",
       "      <th></th>\n",
       "      <th>0</th>\n",
       "      <th>1</th>\n",
       "      <th>2</th>\n",
       "      <th>3</th>\n",
       "      <th>4</th>\n",
       "      <th>5</th>\n",
       "      <th>6</th>\n",
       "      <th>7</th>\n",
       "      <th>8</th>\n",
       "      <th>9</th>\n",
       "      <th>...</th>\n",
       "      <th>155</th>\n",
       "      <th>156</th>\n",
       "      <th>157</th>\n",
       "      <th>158</th>\n",
       "      <th>159</th>\n",
       "      <th>160</th>\n",
       "      <th>161</th>\n",
       "      <th>162</th>\n",
       "      <th>163</th>\n",
       "      <th>164</th>\n",
       "    </tr>\n",
       "  </thead>\n",
       "  <tbody>\n",
       "    <tr>\n",
       "      <th>00</th>\n",
       "      <td>Friends - 1x01 - The One Where Monica Gets A R...</td>\n",
       "      <td>Friends - 1x02 - The One With The Sonogram At ...</td>\n",
       "      <td>Friends - 1x03 - The One With The Thumb.ru.txt</td>\n",
       "      <td>Friends - 1x04 - The One With George Stephanop...</td>\n",
       "      <td>Friends - 1x05 - The One With The East German ...</td>\n",
       "      <td>Friends - 1x06 - The One With The Butt.ru.txt</td>\n",
       "      <td>Friends - 1x07 - The One With The Blackout.ru.txt</td>\n",
       "      <td>Friends - 1x08 - The One Where Nana Dies Twice...</td>\n",
       "      <td>Friends - 1x09 - The One Where Underdog Gets A...</td>\n",
       "      <td>Friends - 1x10 - The One With The Monkey.ru.txt</td>\n",
       "      <td>...</td>\n",
       "      <td>Friends - 7x19 - The One With Ross And Monica'...</td>\n",
       "      <td>Friends - 7x20 - The One With Rachel's Big Kis...</td>\n",
       "      <td>Friends - 7x21 - The One With The Vows.ru.txt</td>\n",
       "      <td>Friends - 7x22 - The One With Chandler's Dad.r...</td>\n",
       "      <td>Friends - 7x23 - The One With Chandler And Mon...</td>\n",
       "      <td>Friends - 7x24-25 - The One With Chandler And ...</td>\n",
       "      <td>None</td>\n",
       "      <td>None</td>\n",
       "      <td>None</td>\n",
       "      <td>None</td>\n",
       "    </tr>\n",
       "    <tr>\n",
       "      <th>000</th>\n",
       "      <td>Friends - 3x18 - The One With The Hypnosis Tap...</td>\n",
       "      <td>Friends - 4x12 - The One With The Embryos.ru.txt</td>\n",
       "      <td>Friends - 4x21 - The One With The Invitations....</td>\n",
       "      <td>Friends - 5x19 - The One Where Ross Can't Flir...</td>\n",
       "      <td>Friends - 5x21 - The One With The Ball.ru.txt</td>\n",
       "      <td>Friends - 6x06 - The One On The Last Night.ru.txt</td>\n",
       "      <td>Friends - 6x24 - The One With The Proposal (1)...</td>\n",
       "      <td>None</td>\n",
       "      <td>None</td>\n",
       "      <td>None</td>\n",
       "      <td>...</td>\n",
       "      <td>None</td>\n",
       "      <td>None</td>\n",
       "      <td>None</td>\n",
       "      <td>None</td>\n",
       "      <td>None</td>\n",
       "      <td>None</td>\n",
       "      <td>None</td>\n",
       "      <td>None</td>\n",
       "      <td>None</td>\n",
       "      <td>None</td>\n",
       "    </tr>\n",
       "    <tr>\n",
       "      <th>007</th>\n",
       "      <td>Friends - 7x20 - The One With Rachel's Big Kis...</td>\n",
       "      <td>None</td>\n",
       "      <td>None</td>\n",
       "      <td>None</td>\n",
       "      <td>None</td>\n",
       "      <td>None</td>\n",
       "      <td>None</td>\n",
       "      <td>None</td>\n",
       "      <td>None</td>\n",
       "      <td>None</td>\n",
       "      <td>...</td>\n",
       "      <td>None</td>\n",
       "      <td>None</td>\n",
       "      <td>None</td>\n",
       "      <td>None</td>\n",
       "      <td>None</td>\n",
       "      <td>None</td>\n",
       "      <td>None</td>\n",
       "      <td>None</td>\n",
       "      <td>None</td>\n",
       "      <td>None</td>\n",
       "    </tr>\n",
       "    <tr>\n",
       "      <th>009</th>\n",
       "      <td>Friends - 4x17 - The One With The Free Porn.ru...</td>\n",
       "      <td>None</td>\n",
       "      <td>None</td>\n",
       "      <td>None</td>\n",
       "      <td>None</td>\n",
       "      <td>None</td>\n",
       "      <td>None</td>\n",
       "      <td>None</td>\n",
       "      <td>None</td>\n",
       "      <td>None</td>\n",
       "      <td>...</td>\n",
       "      <td>None</td>\n",
       "      <td>None</td>\n",
       "      <td>None</td>\n",
       "      <td>None</td>\n",
       "      <td>None</td>\n",
       "      <td>None</td>\n",
       "      <td>None</td>\n",
       "      <td>None</td>\n",
       "      <td>None</td>\n",
       "      <td>None</td>\n",
       "    </tr>\n",
       "    <tr>\n",
       "      <th>02</th>\n",
       "      <td>Friends - 3x13 - The One Where Monica And Rich...</td>\n",
       "      <td>None</td>\n",
       "      <td>None</td>\n",
       "      <td>None</td>\n",
       "      <td>None</td>\n",
       "      <td>None</td>\n",
       "      <td>None</td>\n",
       "      <td>None</td>\n",
       "      <td>None</td>\n",
       "      <td>None</td>\n",
       "      <td>...</td>\n",
       "      <td>None</td>\n",
       "      <td>None</td>\n",
       "      <td>None</td>\n",
       "      <td>None</td>\n",
       "      <td>None</td>\n",
       "      <td>None</td>\n",
       "      <td>None</td>\n",
       "      <td>None</td>\n",
       "      <td>None</td>\n",
       "      <td>None</td>\n",
       "    </tr>\n",
       "  </tbody>\n",
       "</table>\n",
       "<p>5 rows × 165 columns</p>\n",
       "</div>"
      ],
      "text/plain": [
       "                                                   0    \\\n",
       "00   Friends - 1x01 - The One Where Monica Gets A R...   \n",
       "000  Friends - 3x18 - The One With The Hypnosis Tap...   \n",
       "007  Friends - 7x20 - The One With Rachel's Big Kis...   \n",
       "009  Friends - 4x17 - The One With The Free Porn.ru...   \n",
       "02   Friends - 3x13 - The One Where Monica And Rich...   \n",
       "\n",
       "                                                   1    \\\n",
       "00   Friends - 1x02 - The One With The Sonogram At ...   \n",
       "000   Friends - 4x12 - The One With The Embryos.ru.txt   \n",
       "007                                               None   \n",
       "009                                               None   \n",
       "02                                                None   \n",
       "\n",
       "                                                   2    \\\n",
       "00      Friends - 1x03 - The One With The Thumb.ru.txt   \n",
       "000  Friends - 4x21 - The One With The Invitations....   \n",
       "007                                               None   \n",
       "009                                               None   \n",
       "02                                                None   \n",
       "\n",
       "                                                   3    \\\n",
       "00   Friends - 1x04 - The One With George Stephanop...   \n",
       "000  Friends - 5x19 - The One Where Ross Can't Flir...   \n",
       "007                                               None   \n",
       "009                                               None   \n",
       "02                                                None   \n",
       "\n",
       "                                                   4    \\\n",
       "00   Friends - 1x05 - The One With The East German ...   \n",
       "000      Friends - 5x21 - The One With The Ball.ru.txt   \n",
       "007                                               None   \n",
       "009                                               None   \n",
       "02                                                None   \n",
       "\n",
       "                                                   5    \\\n",
       "00       Friends - 1x06 - The One With The Butt.ru.txt   \n",
       "000  Friends - 6x06 - The One On The Last Night.ru.txt   \n",
       "007                                               None   \n",
       "009                                               None   \n",
       "02                                                None   \n",
       "\n",
       "                                                   6    \\\n",
       "00   Friends - 1x07 - The One With The Blackout.ru.txt   \n",
       "000  Friends - 6x24 - The One With The Proposal (1)...   \n",
       "007                                               None   \n",
       "009                                               None   \n",
       "02                                                None   \n",
       "\n",
       "                                                   7    \\\n",
       "00   Friends - 1x08 - The One Where Nana Dies Twice...   \n",
       "000                                               None   \n",
       "007                                               None   \n",
       "009                                               None   \n",
       "02                                                None   \n",
       "\n",
       "                                                   8    \\\n",
       "00   Friends - 1x09 - The One Where Underdog Gets A...   \n",
       "000                                               None   \n",
       "007                                               None   \n",
       "009                                               None   \n",
       "02                                                None   \n",
       "\n",
       "                                                 9    ...   \\\n",
       "00   Friends - 1x10 - The One With The Monkey.ru.txt  ...    \n",
       "000                                             None  ...    \n",
       "007                                             None  ...    \n",
       "009                                             None  ...    \n",
       "02                                              None  ...    \n",
       "\n",
       "                                                   155  \\\n",
       "00   Friends - 7x19 - The One With Ross And Monica'...   \n",
       "000                                               None   \n",
       "007                                               None   \n",
       "009                                               None   \n",
       "02                                                None   \n",
       "\n",
       "                                                   156  \\\n",
       "00   Friends - 7x20 - The One With Rachel's Big Kis...   \n",
       "000                                               None   \n",
       "007                                               None   \n",
       "009                                               None   \n",
       "02                                                None   \n",
       "\n",
       "                                               157  \\\n",
       "00   Friends - 7x21 - The One With The Vows.ru.txt   \n",
       "000                                           None   \n",
       "007                                           None   \n",
       "009                                           None   \n",
       "02                                            None   \n",
       "\n",
       "                                                   158  \\\n",
       "00   Friends - 7x22 - The One With Chandler's Dad.r...   \n",
       "000                                               None   \n",
       "007                                               None   \n",
       "009                                               None   \n",
       "02                                                None   \n",
       "\n",
       "                                                   159  \\\n",
       "00   Friends - 7x23 - The One With Chandler And Mon...   \n",
       "000                                               None   \n",
       "007                                               None   \n",
       "009                                               None   \n",
       "02                                                None   \n",
       "\n",
       "                                                   160   161   162   163   164  \n",
       "00   Friends - 7x24-25 - The One With Chandler And ...  None  None  None  None  \n",
       "000                                               None  None  None  None  None  \n",
       "007                                               None  None  None  None  None  \n",
       "009                                               None  None  None  None  None  \n",
       "02                                                None  None  None  None  None  \n",
       "\n",
       "[5 rows x 165 columns]"
      ]
     },
     "execution_count": 87,
     "metadata": {},
     "output_type": "execute_result"
    }
   ],
   "source": [
    "pd.DataFrame(index).T.head()"
   ]
  },
  {
   "cell_type": "markdown",
   "metadata": {},
   "source": [
    "С помощью обратного индекса произведите следующую аналитику:  \n",
    "\n",
    "1) общая аналитика\n",
    "- какое слово является самым частотным?\n",
    "- какое самым редким?\n",
    "- какой набор слов есть во всех документах коллекции?\n",
    "\n",
    "2) частота встречаемости имен главных героев в каждом сезоне      \n",
    "- какой сезон был самым популярным у Чендлера? у Моники?   \n",
    "- кто из главных героев статистически самый популярный? \n"
   ]
  },
  {
   "cell_type": "markdown",
   "metadata": {},
   "source": [
    "#### Общая аналитика"
   ]
  },
  {
   "cell_type": "code",
   "execution_count": 56,
   "metadata": {},
   "outputs": [
    {
     "data": {
      "text/plain": [
       "'мы'"
      ]
     },
     "execution_count": 56,
     "metadata": {},
     "output_type": "execute_result"
    }
   ],
   "source": [
    "# самое частотное слово\n",
    "clean_index = inverted_index()\n",
    "sorted(clean_index.items(), key=lambda x: len(x[1]))[-1][0]"
   ]
  },
  {
   "cell_type": "code",
   "execution_count": 57,
   "metadata": {},
   "outputs": [
    {
     "data": {
      "text/plain": [
       "'освобождаем'"
      ]
     },
     "execution_count": 57,
     "metadata": {},
     "output_type": "execute_result"
    }
   ],
   "source": [
    "# самое редкое слово\n",
    "clean_index = inverted_index()\n",
    "sorted(clean_index.items(), key=lambda x: len(x[1]))[0][0]"
   ]
  },
  {
   "cell_type": "code",
   "execution_count": 59,
   "metadata": {},
   "outputs": [
    {
     "name": "stdout",
     "output_type": "stream",
     "text": [
      "на\n",
      "если\n",
      "она\n",
      "да\n",
      "ну\n",
      "просто\n",
      "не\n",
      "как\n",
      "мне\n",
      "но\n",
      "меня\n",
      "тебе\n",
      "то\n",
      "так\n",
      "ты\n",
      "тебя\n",
      "что\n",
      "он\n",
      "это\n",
      "нет\n",
      "мы\n"
     ]
    }
   ],
   "source": [
    "# набор слов, встречающихся во всех документах\n",
    "for word in clean_index:\n",
    "    if len(clean_index[word]) == 165:\n",
    "        print(word)"
   ]
  },
  {
   "cell_type": "markdown",
   "metadata": {},
   "source": [
    "#### 2. Частота встречаемости имен главных героев в каждом сезоне"
   ]
  },
  {
   "cell_type": "markdown",
   "metadata": {},
   "source": [
    "Какой сезон был самым популярным у Чендлера? у Моники?"
   ]
  },
  {
   "cell_type": "code",
   "execution_count": 63,
   "metadata": {},
   "outputs": [],
   "source": [
    "monica = defaultdict(int)\n",
    "\n",
    "for el in clean_index['моника']:\n",
    "    res = re.search(' - ([1-7])x', el)\n",
    "    if res != None:\n",
    "        monica[res.group(1)] += 1"
   ]
  },
  {
   "cell_type": "code",
   "execution_count": 72,
   "metadata": {
    "collapsed": true
   },
   "outputs": [],
   "source": [
    "chandler = defaultdict(int)\n",
    "\n",
    "for el in clean_index['чендлера']:\n",
    "    res = re.search(' - ([1-7])x', el)\n",
    "    if res != None:\n",
    "        chandler[res.group(1)] += 1"
   ]
  },
  {
   "cell_type": "markdown",
   "metadata": {},
   "source": [
    "У Моники самый популярный - второй."
   ]
  },
  {
   "cell_type": "code",
   "execution_count": 64,
   "metadata": {},
   "outputs": [
    {
     "data": {
      "text/plain": [
       "defaultdict(int,\n",
       "            {'1': 16, '2': 23, '3': 17, '4': 19, '5': 22, '6': 20, '7': 21})"
      ]
     },
     "execution_count": 64,
     "metadata": {},
     "output_type": "execute_result"
    }
   ],
   "source": [
    "monica"
   ]
  },
  {
   "cell_type": "markdown",
   "metadata": {},
   "source": [
    "У Чендлера - седьмой."
   ]
  },
  {
   "cell_type": "code",
   "execution_count": 73,
   "metadata": {},
   "outputs": [
    {
     "data": {
      "text/plain": [
       "defaultdict(int, {'1': 5, '3': 6, '4': 12, '5': 11, '6': 11, '7': 13})"
      ]
     },
     "execution_count": 73,
     "metadata": {},
     "output_type": "execute_result"
    }
   ],
   "source": [
    "chandler"
   ]
  },
  {
   "cell_type": "markdown",
   "metadata": {},
   "source": [
    "Кто из главных героев статистически самый популярный? "
   ]
  },
  {
   "cell_type": "code",
   "execution_count": 84,
   "metadata": {
    "collapsed": true
   },
   "outputs": [],
   "source": [
    "names = ['моника', 'росс', 'рейчел', 'фиби', 'чендлера', 'джоуи']"
   ]
  },
  {
   "cell_type": "code",
   "execution_count": 85,
   "metadata": {},
   "outputs": [
    {
     "data": {
      "text/plain": [
       "'росс'"
      ]
     },
     "execution_count": 85,
     "metadata": {},
     "output_type": "execute_result"
    }
   ],
   "source": [
    "max_len = 0\n",
    "n = ''\n",
    "for name in names:\n",
    "    if len(clean_index[name]) > max_len:\n",
    "        max_len = len(clean_index[name])\n",
    "        n = name\n",
    "n"
   ]
  },
  {
   "cell_type": "markdown",
   "metadata": {},
   "source": [
    "## Функция ранжирования Okapi BM25"
   ]
  },
  {
   "cell_type": "markdown",
   "metadata": {},
   "source": [
    "Для обратного индекса есть общепринятая формула для ранжирования *Okapi best match 25* ([Okapi BM25](https://ru.wikipedia.org/wiki/Okapi_BM25)).    \n",
    "Пусть дан запрос $Q$, содержащий слова  $q_1, ... , q_n$, тогда функция BM25 даёт следующую оценку релевантности документа $D$ запросу $Q$:\n",
    "\n",
    "$$ score(D, Q) = \\sum_{i}^{n} \\text{IDF}(q_i)*\\frac{(k_1+1)*f(q_i,D)}{f(q_i,D)+k_1(1-b+b\\frac{|D|}{avgdl})} $$ \n",
    "где   \n",
    ">$f(q_i,D)$ - частота слова $q_i$ в документе $D$ (TF)       \n",
    "$|D|$ - длина документа (количество слов в нём)   \n",
    "*avgdl* — средняя длина документа в коллекции    \n",
    "$k_1$ и $b$ — свободные коэффициенты, обычно их выбирают как $k_1$=2.0 и $b$=0.75   \n",
    "$$$$\n",
    "$\\text{IDF}(q_i)$ есть обратная документная частота (IDF) слова $q_i$: \n",
    "$$\\text{IDF}(q_i) = \\log\\frac{N-n(q_i)+0.5}{n(q_i)+0.5},$$\n",
    ">> где $N$ - общее количество документов в коллекции   \n",
    "$n(q_i)$ — количество документов, содержащих $q_i$"
   ]
  },
  {
   "cell_type": "code",
   "execution_count": 104,
   "metadata": {
    "collapsed": true
   },
   "outputs": [],
   "source": [
    "### реализуйте эту функцию ранжирования \n",
    "from math import log\n",
    "\n",
    "k1 = 2.0\n",
    "b = 0.75\n",
    "\n",
    "def score_BM25(qf, dl, avgdl, k1, b, N, n) -> float:\n",
    "    \"\"\"\n",
    "    Compute similarity score between search query and documents from collection\n",
    "    :return: score\n",
    "    \"\"\"\n",
    "    idf = log((N - n + 0.5) / (n + 0.5))\n",
    "        \n",
    "    return (idf * (k1 + 1) * qf) / (qf + k1 * (1 - b + b * dl / avgdl))"
   ]
  },
  {
   "cell_type": "markdown",
   "metadata": {},
   "source": [
    "### __Задача__:    \n",
    "напишите функцию, которая сортирует поисковую выдачу для любого входящего запроса согласно метрике *Okapi BM25*.    \n",
    "Выведите 10 первых результатов и их скор по запросу **рождественские каникулы**. "
   ]
  },
  {
   "cell_type": "code",
   "execution_count": 99,
   "metadata": {},
   "outputs": [],
   "source": [
    "import numpy as np"
   ]
  },
  {
   "cell_type": "code",
   "execution_count": 109,
   "metadata": {},
   "outputs": [],
   "source": [
    "avgdl = np.mean(list(map(len, words_docs)))\n",
    "N = len(words_docs)"
   ]
  },
  {
   "cell_type": "code",
   "execution_count": 110,
   "metadata": {
    "collapsed": true
   },
   "outputs": [],
   "source": [
    "def compute_sim(query, doc) -> float:\n",
    "    \"\"\"\n",
    "    Compute similarity score between search query and documents from collection\n",
    "    :return: score\n",
    "    \"\"\"\n",
    "    word = morph.parse(query)[0].normal_form\n",
    "    \n",
    "    qf = doc.count(word)\n",
    "    dl = len(doc)\n",
    "    n = 0\n",
    "    for d in words_docs:\n",
    "        if word in d:\n",
    "            n += 1\n",
    "    return score_BM25(qf, dl, avgdl, k1, b, N, n)\n",
    "\n",
    "\n",
    "def get_search_result(query) -> list:\n",
    "    \"\"\"\n",
    "    Compute sim score between search query and all documents in collection\n",
    "    Collect as pair (doc_id, score)\n",
    "    :param query: input text\n",
    "    :return: list of lists with (doc_id, score)\n",
    "    \"\"\"\n",
    "    \n",
    "    query_list = query.split()\n",
    "    scores = list()\n",
    "    \n",
    "    for i, doc in enumerate(words_docs):\n",
    "        score = 0\n",
    "        for word in query_list:\n",
    "            score += compute_sim(word, doc)\n",
    "        scores.append([i, score])\n",
    "    \n",
    "    return scores"
   ]
  },
  {
   "cell_type": "code",
   "execution_count": 112,
   "metadata": {},
   "outputs": [],
   "source": [
    "okapi = get_search_result('рождественские каникулы')"
   ]
  },
  {
   "cell_type": "code",
   "execution_count": 113,
   "metadata": {
    "collapsed": true
   },
   "outputs": [],
   "source": [
    "okapi = sorted(okapi, key = lambda x: x[1])"
   ]
  },
  {
   "cell_type": "markdown",
   "metadata": {},
   "source": [
    "10 наиболее релевантных файлов и их скор"
   ]
  },
  {
   "cell_type": "code",
   "execution_count": 119,
   "metadata": {},
   "outputs": [
    {
     "name": "stdout",
     "output_type": "stream",
     "text": [
      "3.38394617515 C:\\Users\\Masha\\Documents\\Инфопоиск\\Friends\\Friends - season 6\\Friends - 6x09 - The One Where Ross Got High.ru.txt\n",
      "3.41788358035 C:\\Users\\Masha\\Documents\\Инфопоиск\\Friends\\Friends - season 6\\Friends - 6x12 - The One With The Joke.ru.txt\n",
      "4.00078294955 C:\\Users\\Masha\\Documents\\Инфопоиск\\Friends\\Friends - season 4\\Friends - 4x10 - The One With The Girl From Poughkeepsie.ru.txt\n",
      "4.06033338918 C:\\Users\\Masha\\Documents\\Инфопоиск\\Friends\\Friends - season 1\\Friends - 1x16 - The One With Two Parts (1).ru.txt\n",
      "4.08109463063 C:\\Users\\Masha\\Documents\\Инфопоиск\\Friends\\Friends - season 4\\Friends - 4x03 - The One With The 'Cuffs.ru.txt\n",
      "4.10910881637 C:\\Users\\Masha\\Documents\\Инфопоиск\\Friends\\Friends - season 1\\Friends - 1x17 - The One With Two Parts (2).ru.txt\n",
      "4.84412846111 C:\\Users\\Masha\\Documents\\Инфопоиск\\Friends\\Friends - season 2\\Friends - 2x09 - The One With Phoebe's Dad.ru.txt\n",
      "5.72761184215 C:\\Users\\Masha\\Documents\\Инфопоиск\\Friends\\Friends - season 3\\Friends - 3x10 - The One Where Rachel Quits.ru.txt\n",
      "7.8461171838 C:\\Users\\Masha\\Documents\\Инфопоиск\\Friends\\Friends - season 6\\Friends - 6x19 - The One With Joey's Fridge.ru.txt\n",
      "9.9568450612 C:\\Users\\Masha\\Documents\\Инфопоиск\\Friends\\Friends - season 7\\Friends - 7x10 - The One With The Holiday Armadillo.ru.txt\n"
     ]
    }
   ],
   "source": [
    "for i in okapi[-10:]:\n",
    "    print(i[1], files_list[i[0]])"
   ]
  }
 ],
 "metadata": {
  "kernelspec": {
   "display_name": "Python 3",
   "language": "python",
   "name": "python3"
  },
  "language_info": {
   "codemirror_mode": {
    "name": "ipython",
    "version": 3
   },
   "file_extension": ".py",
   "mimetype": "text/x-python",
   "name": "python",
   "nbconvert_exporter": "python",
   "pygments_lexer": "ipython3",
   "version": "3.5.1"
  }
 },
 "nbformat": 4,
 "nbformat_minor": 2
}
